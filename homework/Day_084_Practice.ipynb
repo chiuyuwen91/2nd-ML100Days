{
 "cells": [
  {
   "cell_type": "markdown",
   "metadata": {},
   "source": [
    "## Work\n",
    "### 請結合前面的知識與程式碼，比較不同的 regularization 的組合對訓練的結果與影響：如 dropout, regularizers, batch-normalization 等"
   ]
  },
  {
   "cell_type": "code",
   "execution_count": 1,
   "metadata": {},
   "outputs": [
    {
     "name": "stderr",
     "output_type": "stream",
     "text": [
      "Using TensorFlow backend.\n"
     ]
    }
   ],
   "source": [
    "import os\n",
    "import keras\n",
    "import itertools\n",
    "# Disable GPU\n",
    "os.environ[\"CUDA_VISIBLE_DEVICES\"] = \"\""
   ]
  },
  {
   "cell_type": "code",
   "execution_count": 2,
   "metadata": {},
   "outputs": [],
   "source": [
    "train, test = keras.datasets.cifar10.load_data()"
   ]
  },
  {
   "cell_type": "code",
   "execution_count": 3,
   "metadata": {},
   "outputs": [],
   "source": [
    "## 資料前處理\n",
    "def preproc_x(x, flatten=True):\n",
    "    x = x / 255.\n",
    "    if flatten:\n",
    "        x = x.reshape((len(x), -1))\n",
    "    return x\n",
    "\n",
    "def preproc_y(y, num_classes=10):\n",
    "    if y.shape[-1] == 1:\n",
    "        y = keras.utils.to_categorical(y, num_classes)\n",
    "    return y    "
   ]
  },
  {
   "cell_type": "code",
   "execution_count": 4,
   "metadata": {},
   "outputs": [],
   "source": [
    "x_train, y_train = train\n",
    "x_test, y_test = test\n",
    "\n",
    "# Preproc the inputs\n",
    "x_train = preproc_x(x_train)\n",
    "x_test = preproc_x(x_test)\n",
    "\n",
    "# Preprc the outputs\n",
    "y_train = preproc_y(y_train)\n",
    "y_test = preproc_y(y_test)"
   ]
  },
  {
   "cell_type": "code",
   "execution_count": 5,
   "metadata": {},
   "outputs": [],
   "source": [
    "from keras.regularizers import l1, l2, l1_l2\n",
    "\n",
    "def build_mlp(input_shape, output_units=10, num_neurons=[512, 256, 128], l2_ratio=1e-4):\n",
    "    input_layer = keras.layers.Input(input_shape)\n",
    "    \n",
    "    for i, n_units in enumerate(num_neurons):\n",
    "        if i == 0:\n",
    "            x = keras.layers.Dense(units=n_units, \n",
    "                                   activation=\"relu\", \n",
    "                                   name=\"hidden_layer\"+str(i+1), \n",
    "                                   kernel_regularizer=l2(l2_ratio))(input_layer)\n",
    "        else:\n",
    "            x = keras.layers.Dense(units=n_units, \n",
    "                                   activation=\"relu\", \n",
    "                                   name=\"hidden_layer\"+str(i+1),\n",
    "                                   kernel_regularizer=l2(l2_ratio))(x)\n",
    "    \n",
    "    out = keras.layers.Dense(units=output_units, activation=\"softmax\", name=\"output\")(x)\n",
    "    \n",
    "    model = keras.models.Model(inputs=[input_layer], outputs=[out])\n",
    "    return model"
   ]
  },
  {
   "cell_type": "code",
   "execution_count": 10,
   "metadata": {},
   "outputs": [],
   "source": [
    "LEARNING_RATE = 1e-3\n",
    "EPOCHS = 30\n",
    "BATCH_SIZE = 256\n",
    "MOMENTUM = 0.95\n",
    "L2_EXP = 1e-8"
   ]
  },
  {
   "cell_type": "code",
   "execution_count": 11,
   "metadata": {
    "scrolled": true
   },
   "outputs": [
    {
     "name": "stdout",
     "output_type": "stream",
     "text": [
      "Experiment with Regulizer = 0.000000\n",
      "_________________________________________________________________\n",
      "Layer (type)                 Output Shape              Param #   \n",
      "=================================================================\n",
      "input_1 (InputLayer)         (None, 3072)              0         \n",
      "_________________________________________________________________\n",
      "hidden_layer1 (Dense)        (None, 512)               1573376   \n",
      "_________________________________________________________________\n",
      "hidden_layer2 (Dense)        (None, 256)               131328    \n",
      "_________________________________________________________________\n",
      "hidden_layer3 (Dense)        (None, 128)               32896     \n",
      "_________________________________________________________________\n",
      "output (Dense)               (None, 10)                1290      \n",
      "=================================================================\n",
      "Total params: 1,738,890\n",
      "Trainable params: 1,738,890\n",
      "Non-trainable params: 0\n",
      "_________________________________________________________________\n",
      "Train on 50000 samples, validate on 10000 samples\n",
      "Epoch 1/30\n",
      "50000/50000 [==============================] - 228s 5ms/step - loss: 2.0360 - acc: 0.2714 - val_loss: 1.8731 - val_acc: 0.3404\n",
      "Epoch 2/30\n",
      "50000/50000 [==============================] - 224s 4ms/step - loss: 1.8152 - acc: 0.3618 - val_loss: 1.7805 - val_acc: 0.3660\n",
      "Epoch 3/30\n",
      "50000/50000 [==============================] - 232s 5ms/step - loss: 1.7270 - acc: 0.3947 - val_loss: 1.7023 - val_acc: 0.3955\n",
      "Epoch 4/30\n",
      "50000/50000 [==============================] - 226s 5ms/step - loss: 1.6643 - acc: 0.4146 - val_loss: 1.6462 - val_acc: 0.4208\n",
      "Epoch 5/30\n",
      "50000/50000 [==============================] - 226s 5ms/step - loss: 1.6142 - acc: 0.4352 - val_loss: 1.5959 - val_acc: 0.4390\n",
      "Epoch 6/30\n",
      "50000/50000 [==============================] - 225s 5ms/step - loss: 1.5717 - acc: 0.4503 - val_loss: 1.5675 - val_acc: 0.4440\n",
      "Epoch 7/30\n",
      "50000/50000 [==============================] - 225s 4ms/step - loss: 1.5391 - acc: 0.4605 - val_loss: 1.5420 - val_acc: 0.4570\n",
      "Epoch 8/30\n",
      "50000/50000 [==============================] - 226s 5ms/step - loss: 1.5065 - acc: 0.4713 - val_loss: 1.5168 - val_acc: 0.4648\n",
      "Epoch 9/30\n",
      "50000/50000 [==============================] - 226s 5ms/step - loss: 1.4777 - acc: 0.4821 - val_loss: 1.4928 - val_acc: 0.4762\n",
      "Epoch 10/30\n",
      "50000/50000 [==============================] - 225s 5ms/step - loss: 1.4523 - acc: 0.4923 - val_loss: 1.4838 - val_acc: 0.4720\n",
      "Epoch 11/30\n",
      "50000/50000 [==============================] - 224s 4ms/step - loss: 1.4284 - acc: 0.5007 - val_loss: 1.4588 - val_acc: 0.4817\n",
      "Epoch 12/30\n",
      "50000/50000 [==============================] - 221s 4ms/step - loss: 1.4047 - acc: 0.5074 - val_loss: 1.4652 - val_acc: 0.4865\n",
      "Epoch 13/30\n",
      "50000/50000 [==============================] - 224s 4ms/step - loss: 1.3836 - acc: 0.5137 - val_loss: 1.4336 - val_acc: 0.4914\n",
      "Epoch 14/30\n",
      "50000/50000 [==============================] - 222s 4ms/step - loss: 1.3627 - acc: 0.5221 - val_loss: 1.4305 - val_acc: 0.4927\n",
      "Epoch 15/30\n",
      "50000/50000 [==============================] - 223s 4ms/step - loss: 1.3425 - acc: 0.5308 - val_loss: 1.4038 - val_acc: 0.5048\n",
      "Epoch 16/30\n",
      "50000/50000 [==============================] - 224s 4ms/step - loss: 1.3255 - acc: 0.5350 - val_loss: 1.4295 - val_acc: 0.4997\n",
      "Epoch 17/30\n",
      "50000/50000 [==============================] - 225s 4ms/step - loss: 1.3072 - acc: 0.5413 - val_loss: 1.3902 - val_acc: 0.5038\n",
      "Epoch 18/30\n",
      "50000/50000 [==============================] - 222s 4ms/step - loss: 1.2908 - acc: 0.5449 - val_loss: 1.3821 - val_acc: 0.5141\n",
      "Epoch 19/30\n",
      "50000/50000 [==============================] - 223s 4ms/step - loss: 1.2727 - acc: 0.5531 - val_loss: 1.4226 - val_acc: 0.4979\n",
      "Epoch 20/30\n",
      "50000/50000 [==============================] - 222s 4ms/step - loss: 1.2566 - acc: 0.5595 - val_loss: 1.3891 - val_acc: 0.5141\n",
      "Epoch 21/30\n",
      "50000/50000 [==============================] - 223s 4ms/step - loss: 1.2400 - acc: 0.5641 - val_loss: 1.3641 - val_acc: 0.5186\n",
      "Epoch 22/30\n",
      "50000/50000 [==============================] - 222s 4ms/step - loss: 1.2238 - acc: 0.5706 - val_loss: 1.3637 - val_acc: 0.5156\n",
      "Epoch 23/30\n",
      "50000/50000 [==============================] - 223s 4ms/step - loss: 1.2097 - acc: 0.5760 - val_loss: 1.3675 - val_acc: 0.5162\n",
      "Epoch 24/30\n",
      "50000/50000 [==============================] - 225s 5ms/step - loss: 1.1949 - acc: 0.5806 - val_loss: 1.3654 - val_acc: 0.5220\n",
      "Epoch 25/30\n",
      "50000/50000 [==============================] - 226s 5ms/step - loss: 1.1803 - acc: 0.5852 - val_loss: 1.3654 - val_acc: 0.5166\n",
      "Epoch 26/30\n",
      "50000/50000 [==============================] - 226s 5ms/step - loss: 1.1655 - acc: 0.5904 - val_loss: 1.3453 - val_acc: 0.5258\n",
      "Epoch 27/30\n",
      "50000/50000 [==============================] - 223s 4ms/step - loss: 1.1535 - acc: 0.5957 - val_loss: 1.3857 - val_acc: 0.5175\n",
      "Epoch 28/30\n",
      "50000/50000 [==============================] - 222s 4ms/step - loss: 1.1401 - acc: 0.5993 - val_loss: 1.3425 - val_acc: 0.5311\n",
      "Epoch 29/30\n",
      "50000/50000 [==============================] - 223s 4ms/step - loss: 1.1233 - acc: 0.6044 - val_loss: 1.3461 - val_acc: 0.5306\n",
      "Epoch 30/30\n",
      "50000/50000 [==============================] - 224s 4ms/step - loss: 1.1103 - acc: 0.6109 - val_loss: 1.3654 - val_acc: 0.5189\n"
     ]
    }
   ],
   "source": [
    "results = {}\n",
    "\n",
    "keras.backend.clear_session() # 把舊的 Graph 清掉\n",
    "print(\"Experiment with Regulizer = %.6f\" % (L2_EXP))\n",
    "model = build_mlp(input_shape=x_train.shape[1:], l2_ratio=L2_EXP)\n",
    "model.summary()\n",
    "optimizer = keras.optimizers.SGD(lr=LEARNING_RATE, nesterov=True, momentum=MOMENTUM)\n",
    "model.compile(loss=\"categorical_crossentropy\", metrics=[\"accuracy\"], optimizer=optimizer)\n",
    "\n",
    "model.fit(x_train, y_train, \n",
    "          epochs=EPOCHS, \n",
    "          batch_size=BATCH_SIZE, \n",
    "          validation_data=(x_test, y_test), \n",
    "          shuffle=True)\n",
    "\n",
    "\n",
    "# Collect results\n",
    "train_loss = model.history.history[\"loss\"]\n",
    "valid_loss = model.history.history[\"val_loss\"]\n",
    "train_acc = model.history.history[\"acc\"]\n",
    "valid_acc = model.history.history[\"val_acc\"]\n",
    "\n",
    "exp_name_tag = \"exp-l2-%s\" % str(L2_EXP)\n",
    "results[exp_name_tag] = {'train-loss': train_loss,\n",
    "                         'valid-loss': valid_loss,\n",
    "                         'train-acc': train_acc,\n",
    "                         'valid-acc': valid_acc}\n"
   ]
  },
  {
   "cell_type": "code",
   "execution_count": 12,
   "metadata": {},
   "outputs": [
    {
     "data": {
      "image/png": "[encoded data removed]",
      "text/plain": [
       "<Figure size 432x288 with 1 Axes>"
      ]
     },
     "metadata": {
      "needs_background": "light"
     },
     "output_type": "display_data"
    },
    {
     "data": {
      "image/png": "[encoded data removed]",
      "text/plain": [
       "<Figure size 432x288 with 1 Axes>"
      ]
     },
     "metadata": {
      "needs_background": "light"
     },
     "output_type": "display_data"
    }
   ],
   "source": [
    "import matplotlib.pyplot as plt\n",
    "%matplotlib inline\n",
    "\n",
    "plt.plot(range(len(train_loss)), train_loss, label=\"train loss\")\n",
    "plt.plot(range(len(valid_loss)), valid_loss, label=\"valid loss\")\n",
    "plt.legend()\n",
    "plt.title(\"Loss\")\n",
    "plt.show()\n",
    "\n",
    "plt.plot(range(len(train_acc)), train_acc, label=\"train accuracy\")\n",
    "plt.plot(range(len(valid_acc)), valid_acc, label=\"valid accuracy\")\n",
    "plt.legend()\n",
    "plt.title(\"Accuracy\")\n",
    "plt.show()"
   ]
  },
  {
   "cell_type": "code",
   "execution_count": 13,
   "metadata": {},
   "outputs": [],
   "source": [
    "from keras.layers import Dropout\n",
    "\n",
    "def build_mlp(input_shape, output_units=10, num_neurons=[512, 256, 128], drp_ratio=0.2):\n",
    "    input_layer = keras.layers.Input(input_shape)\n",
    "    \n",
    "    for i, n_units in enumerate(num_neurons):\n",
    "        if i == 0:\n",
    "            x = keras.layers.Dense(units=n_units, \n",
    "                                   activation=\"relu\", \n",
    "                                   name=\"hidden_layer\"+str(i+1))(input_layer)\n",
    "            x = Dropout(drp_ratio)(x)\n",
    "        else:\n",
    "            x = keras.layers.Dense(units=n_units, \n",
    "                                   activation=\"relu\", \n",
    "                                   name=\"hidden_layer\"+str(i+1))(x)\n",
    "            x = Dropout(drp_ratio)(x)\n",
    "    \n",
    "    out = keras.layers.Dense(units=output_units, activation=\"softmax\", name=\"output\")(x)\n",
    "    \n",
    "    model = keras.models.Model(inputs=[input_layer], outputs=[out])\n",
    "    return model"
   ]
  },
  {
   "cell_type": "code",
   "execution_count": 14,
   "metadata": {},
   "outputs": [],
   "source": [
    "LEARNING_RATE = 1e-3\n",
    "EPOCHS = 30\n",
    "BATCH_SIZE = 256\n",
    "MOMENTUM = 0.95\n",
    "Dropout_EXP = 0.25"
   ]
  },
  {
   "cell_type": "code",
   "execution_count": 15,
   "metadata": {},
   "outputs": [
    {
     "name": "stdout",
     "output_type": "stream",
     "text": [
      "Experiment with Dropout = 0.250000\n",
      "WARNING:tensorflow:From /Users/YuwenChiu/anaconda3/lib/python3.7/site-packages/tensorflow/python/framework/op_def_library.py:263: colocate_with (from tensorflow.python.framework.ops) is deprecated and will be removed in a future version.\n",
      "Instructions for updating:\n",
      "Colocations handled automatically by placer.\n",
      "WARNING:tensorflow:From /Users/YuwenChiu/anaconda3/lib/python3.7/site-packages/keras/backend/tensorflow_backend.py:3445: calling dropout (from tensorflow.python.ops.nn_ops) with keep_prob is deprecated and will be removed in a future version.\n",
      "Instructions for updating:\n",
      "Please use `rate` instead of `keep_prob`. Rate should be set to `rate = 1 - keep_prob`.\n",
      "_________________________________________________________________\n",
      "Layer (type)                 Output Shape              Param #   \n",
      "=================================================================\n",
      "input_1 (InputLayer)         (None, 3072)              0         \n",
      "_________________________________________________________________\n",
      "hidden_layer1 (Dense)        (None, 512)               1573376   \n",
      "_________________________________________________________________\n",
      "dropout_1 (Dropout)          (None, 512)               0         \n",
      "_________________________________________________________________\n",
      "hidden_layer2 (Dense)        (None, 256)               131328    \n",
      "_________________________________________________________________\n",
      "dropout_2 (Dropout)          (None, 256)               0         \n",
      "_________________________________________________________________\n",
      "hidden_layer3 (Dense)        (None, 128)               32896     \n",
      "_________________________________________________________________\n",
      "dropout_3 (Dropout)          (None, 128)               0         \n",
      "_________________________________________________________________\n",
      "output (Dense)               (None, 10)                1290      \n",
      "=================================================================\n",
      "Total params: 1,738,890\n",
      "Trainable params: 1,738,890\n",
      "Non-trainable params: 0\n",
      "_________________________________________________________________\n",
      "WARNING:tensorflow:From /Users/YuwenChiu/anaconda3/lib/python3.7/site-packages/tensorflow/python/ops/math_ops.py:3066: to_int32 (from tensorflow.python.ops.math_ops) is deprecated and will be removed in a future version.\n",
      "Instructions for updating:\n",
      "Use tf.cast instead.\n",
      "Train on 50000 samples, validate on 10000 samples\n",
      "Epoch 1/30\n",
      "50000/50000 [==============================] - 232s 5ms/step - loss: 2.1879 - acc: 0.1876 - val_loss: 1.9840 - val_acc: 0.2986\n",
      "Epoch 2/30\n",
      "50000/50000 [==============================] - 226s 5ms/step - loss: 1.9973 - acc: 0.2709 - val_loss: 1.8797 - val_acc: 0.3429\n",
      "Epoch 3/30\n",
      "50000/50000 [==============================] - 227s 5ms/step - loss: 1.9114 - acc: 0.3086 - val_loss: 1.8024 - val_acc: 0.3664\n",
      "Epoch 4/30\n",
      "50000/50000 [==============================] - 224s 4ms/step - loss: 1.8556 - acc: 0.3357 - val_loss: 1.7541 - val_acc: 0.3810\n",
      "Epoch 5/30\n",
      "50000/50000 [==============================] - 225s 5ms/step - loss: 1.8133 - acc: 0.3504 - val_loss: 1.7112 - val_acc: 0.3971\n",
      "Epoch 6/30\n",
      "50000/50000 [==============================] - 224s 4ms/step - loss: 1.7739 - acc: 0.3676 - val_loss: 1.6788 - val_acc: 0.4064\n",
      "Epoch 7/30\n",
      "50000/50000 [==============================] - 224s 4ms/step - loss: 1.7474 - acc: 0.3748 - val_loss: 1.6481 - val_acc: 0.4199\n",
      "Epoch 8/30\n",
      "50000/50000 [==============================] - 224s 4ms/step - loss: 1.7163 - acc: 0.3868 - val_loss: 1.6259 - val_acc: 0.4328\n",
      "Epoch 9/30\n",
      "50000/50000 [==============================] - 224s 4ms/step - loss: 1.6957 - acc: 0.3966 - val_loss: 1.5989 - val_acc: 0.4357\n",
      "Epoch 10/30\n",
      "50000/50000 [==============================] - 229s 5ms/step - loss: 1.6733 - acc: 0.4062 - val_loss: 1.5828 - val_acc: 0.4397\n",
      "Epoch 11/30\n",
      "50000/50000 [==============================] - 237s 5ms/step - loss: 1.6528 - acc: 0.4116 - val_loss: 1.5712 - val_acc: 0.4413\n",
      "Epoch 12/30\n",
      "50000/50000 [==============================] - 225s 4ms/step - loss: 1.6324 - acc: 0.4199 - val_loss: 1.5432 - val_acc: 0.4509\n",
      "Epoch 13/30\n",
      "50000/50000 [==============================] - 225s 5ms/step - loss: 1.6149 - acc: 0.4235 - val_loss: 1.5201 - val_acc: 0.4621\n",
      "Epoch 14/30\n",
      "50000/50000 [==============================] - 225s 4ms/step - loss: 1.5988 - acc: 0.4334 - val_loss: 1.5086 - val_acc: 0.4625\n",
      "Epoch 15/30\n",
      "50000/50000 [==============================] - 223s 4ms/step - loss: 1.5827 - acc: 0.4367 - val_loss: 1.4985 - val_acc: 0.4720\n",
      "Epoch 16/30\n",
      "50000/50000 [==============================] - 224s 4ms/step - loss: 1.5708 - acc: 0.4431 - val_loss: 1.4909 - val_acc: 0.4712\n",
      "Epoch 17/30\n",
      "50000/50000 [==============================] - 224s 4ms/step - loss: 1.5556 - acc: 0.4476 - val_loss: 1.4771 - val_acc: 0.4732\n",
      "Epoch 18/30\n",
      "50000/50000 [==============================] - 224s 4ms/step - loss: 1.5438 - acc: 0.4513 - val_loss: 1.4697 - val_acc: 0.4778\n",
      "Epoch 19/30\n",
      "50000/50000 [==============================] - 224s 4ms/step - loss: 1.5294 - acc: 0.4543 - val_loss: 1.4533 - val_acc: 0.4851\n",
      "Epoch 20/30\n",
      "50000/50000 [==============================] - 223s 4ms/step - loss: 1.5182 - acc: 0.4591 - val_loss: 1.4457 - val_acc: 0.4873\n",
      "Epoch 21/30\n",
      "50000/50000 [==============================] - 6138s 123ms/step - loss: 1.5047 - acc: 0.4665 - val_loss: 1.4410 - val_acc: 0.4929\n",
      "Epoch 22/30\n",
      "50000/50000 [==============================] - 265s 5ms/step - loss: 1.4962 - acc: 0.4696 - val_loss: 1.4329 - val_acc: 0.4944\n",
      "Epoch 23/30\n",
      "50000/50000 [==============================] - 321s 6ms/step - loss: 1.4805 - acc: 0.4729 - val_loss: 1.4224 - val_acc: 0.4920\n",
      "Epoch 24/30\n",
      "50000/50000 [==============================] - 261s 5ms/step - loss: 1.4739 - acc: 0.4749 - val_loss: 1.4143 - val_acc: 0.4978\n",
      "Epoch 25/30\n",
      "50000/50000 [==============================] - 294s 6ms/step - loss: 1.4630 - acc: 0.4797 - val_loss: 1.4108 - val_acc: 0.4964\n",
      "Epoch 26/30\n",
      "50000/50000 [==============================] - 297s 6ms/step - loss: 1.4560 - acc: 0.4818 - val_loss: 1.4010 - val_acc: 0.4993\n",
      "Epoch 27/30\n",
      "50000/50000 [==============================] - 289s 6ms/step - loss: 1.4491 - acc: 0.4833 - val_loss: 1.3902 - val_acc: 0.5029\n",
      "Epoch 28/30\n",
      "50000/50000 [==============================] - 277s 6ms/step - loss: 1.4313 - acc: 0.4892 - val_loss: 1.3867 - val_acc: 0.5072\n",
      "Epoch 29/30\n",
      "50000/50000 [==============================] - 238s 5ms/step - loss: 1.4274 - acc: 0.4907 - val_loss: 1.3828 - val_acc: 0.5052\n",
      "Epoch 30/30\n",
      "50000/50000 [==============================] - 230s 5ms/step - loss: 1.4163 - acc: 0.4976 - val_loss: 1.3769 - val_acc: 0.5097\n"
     ]
    }
   ],
   "source": [
    "results = {}\n",
    "\n",
    "keras.backend.clear_session() # 把舊的 Graph 清掉\n",
    "print(\"Experiment with Dropout = %.6f\" % (Dropout_EXP))\n",
    "model = build_mlp(input_shape=x_train.shape[1:], drp_ratio=Dropout_EXP)\n",
    "model.summary()\n",
    "optimizer = keras.optimizers.SGD(lr=LEARNING_RATE, nesterov=True, momentum=MOMENTUM)\n",
    "model.compile(loss=\"categorical_crossentropy\", metrics=[\"accuracy\"], optimizer=optimizer)\n",
    "\n",
    "model.fit(x_train, y_train, \n",
    "          epochs=EPOCHS, \n",
    "          batch_size=BATCH_SIZE, \n",
    "          validation_data=(x_test, y_test), \n",
    "          shuffle=True)\n",
    "\n",
    "\n",
    "# Collect results\n",
    "train_loss = model.history.history[\"loss\"]\n",
    "valid_loss = model.history.history[\"val_loss\"]\n",
    "train_acc = model.history.history[\"acc\"]\n",
    "valid_acc = model.history.history[\"val_acc\"]\n",
    "\n",
    "exp_name_tag = \"exp-dropout-%s\" % str(Dropout_EXP)\n",
    "results[exp_name_tag] = {'train-loss': train_loss,\n",
    "                         'valid-loss': valid_loss,\n",
    "                         'train-acc': train_acc,\n",
    "                         'valid-acc': valid_acc}"
   ]
  },
  {
   "cell_type": "code",
   "execution_count": 16,
   "metadata": {},
   "outputs": [
    {
     "data": {
      "image/png": "[encoded data removed]",
      "text/plain": [
       "<Figure size 432x288 with 1 Axes>"
      ]
     },
     "metadata": {
      "needs_background": "light"
     },
     "output_type": "display_data"
    },
    {
     "data": {
      "image/png": "[encoded data removed]",
      "text/plain": [
       "<Figure size 432x288 with 1 Axes>"
      ]
     },
     "metadata": {
      "needs_background": "light"
     },
     "output_type": "display_data"
    }
   ],
   "source": [
    "import matplotlib.pyplot as plt\n",
    "%matplotlib inline\n",
    "\n",
    "plt.plot(range(len(train_loss)), train_loss, label=\"train loss\")\n",
    "plt.plot(range(len(valid_loss)), valid_loss, label=\"valid loss\")\n",
    "plt.legend()\n",
    "plt.title(\"Loss\")\n",
    "plt.show()\n",
    "\n",
    "plt.plot(range(len(train_acc)), train_acc, label=\"train accuracy\")\n",
    "plt.plot(range(len(valid_acc)), valid_acc, label=\"valid accuracy\")\n",
    "plt.legend()\n",
    "plt.title(\"Accuracy\")\n",
    "plt.show()"
   ]
  },
  {
   "cell_type": "code",
   "execution_count": 17,
   "metadata": {},
   "outputs": [],
   "source": [
    "from keras.layers import BatchNormalization\n",
    "\n",
    "def build_mlp(input_shape, output_units=10, num_neurons=[512, 256, 128]):\n",
    "    input_layer = keras.layers.Input(input_shape)\n",
    "    \n",
    "    for i, n_units in enumerate(num_neurons):\n",
    "        if i == 0:\n",
    "            x = keras.layers.Dense(units=n_units, \n",
    "                                   activation=\"relu\", \n",
    "                                   name=\"hidden_layer\"+str(i+1))(input_layer)\n",
    "            x = BatchNormalization()(x)\n",
    "        else:\n",
    "            x = keras.layers.Dense(units=n_units, \n",
    "                                   activation=\"relu\", \n",
    "                                   name=\"hidden_layer\"+str(i+1))(x)\n",
    "            x = BatchNormalization()(x)\n",
    "    \n",
    "    out = keras.layers.Dense(units=output_units, activation=\"softmax\", name=\"output\")(x)\n",
    "    \n",
    "    model = keras.models.Model(inputs=[input_layer], outputs=[out])\n",
    "    return model"
   ]
  },
  {
   "cell_type": "code",
   "execution_count": 18,
   "metadata": {},
   "outputs": [],
   "source": [
    "LEARNING_RATE = 1e-3\n",
    "EPOCHS = 30\n",
    "BATCH_SIZE = 256\n",
    "MOMENTUM = 0.95"
   ]
  },
  {
   "cell_type": "code",
   "execution_count": 20,
   "metadata": {},
   "outputs": [
    {
     "name": "stdout",
     "output_type": "stream",
     "text": [
      "_________________________________________________________________\n",
      "Layer (type)                 Output Shape              Param #   \n",
      "=================================================================\n",
      "input_1 (InputLayer)         (None, 3072)              0         \n",
      "_________________________________________________________________\n",
      "hidden_layer1 (Dense)        (None, 512)               1573376   \n",
      "_________________________________________________________________\n",
      "batch_normalization_1 (Batch (None, 512)               2048      \n",
      "_________________________________________________________________\n",
      "hidden_layer2 (Dense)        (None, 256)               131328    \n",
      "_________________________________________________________________\n",
      "batch_normalization_2 (Batch (None, 256)               1024      \n",
      "_________________________________________________________________\n",
      "hidden_layer3 (Dense)        (None, 128)               32896     \n",
      "_________________________________________________________________\n",
      "batch_normalization_3 (Batch (None, 128)               512       \n",
      "_________________________________________________________________\n",
      "output (Dense)               (None, 10)                1290      \n",
      "=================================================================\n",
      "Total params: 1,742,474\n",
      "Trainable params: 1,740,682\n",
      "Non-trainable params: 1,792\n",
      "_________________________________________________________________\n",
      "Train on 50000 samples, validate on 10000 samples\n",
      "Epoch 1/30\n",
      "50000/50000 [==============================] - 278s 6ms/step - loss: 1.8582 - acc: 0.3604 - val_loss: 1.7669 - val_acc: 0.3969\n",
      "Epoch 2/30\n",
      "50000/50000 [==============================] - 332s 7ms/step - loss: 1.5519 - acc: 0.4555 - val_loss: 1.5935 - val_acc: 0.4414\n",
      "Epoch 3/30\n",
      "50000/50000 [==============================] - 331s 7ms/step - loss: 1.4504 - acc: 0.4936 - val_loss: 1.5681 - val_acc: 0.4513\n",
      "Epoch 4/30\n",
      "50000/50000 [==============================] - 301s 6ms/step - loss: 1.3772 - acc: 0.5190 - val_loss: 1.5220 - val_acc: 0.4641\n",
      "Epoch 5/30\n",
      "50000/50000 [==============================] - 280s 6ms/step - loss: 1.3219 - acc: 0.5387 - val_loss: 1.5041 - val_acc: 0.4701\n",
      "Epoch 6/30\n",
      "50000/50000 [==============================] - 268s 5ms/step - loss: 1.2697 - acc: 0.5546 - val_loss: 1.4869 - val_acc: 0.4752\n",
      "Epoch 7/30\n",
      "50000/50000 [==============================] - 277s 6ms/step - loss: 1.2215 - acc: 0.5713 - val_loss: 1.5255 - val_acc: 0.4621\n",
      "Epoch 8/30\n",
      "50000/50000 [==============================] - 267s 5ms/step - loss: 1.1805 - acc: 0.5877 - val_loss: 1.5047 - val_acc: 0.4716\n",
      "Epoch 9/30\n",
      "50000/50000 [==============================] - 284s 6ms/step - loss: 1.1376 - acc: 0.6027 - val_loss: 1.4594 - val_acc: 0.4892\n",
      "Epoch 10/30\n",
      "50000/50000 [==============================] - 282s 6ms/step - loss: 1.1009 - acc: 0.6167 - val_loss: 1.4605 - val_acc: 0.4872\n",
      "Epoch 11/30\n",
      "50000/50000 [==============================] - 284s 6ms/step - loss: 1.0620 - acc: 0.6300 - val_loss: 1.4881 - val_acc: 0.4937\n",
      "Epoch 12/30\n",
      "50000/50000 [==============================] - 262s 5ms/step - loss: 1.0304 - acc: 0.6416 - val_loss: 1.4589 - val_acc: 0.4943\n",
      "Epoch 13/30\n",
      "50000/50000 [==============================] - 235s 5ms/step - loss: 0.9957 - acc: 0.6543 - val_loss: 1.5533 - val_acc: 0.4674\n",
      "Epoch 14/30\n",
      "50000/50000 [==============================] - 236s 5ms/step - loss: 0.9577 - acc: 0.6678 - val_loss: 1.5959 - val_acc: 0.4607\n",
      "Epoch 15/30\n",
      "50000/50000 [==============================] - 233s 5ms/step - loss: 0.9242 - acc: 0.6816 - val_loss: 1.5383 - val_acc: 0.4824\n",
      "Epoch 16/30\n",
      "50000/50000 [==============================] - 231s 5ms/step - loss: 0.8885 - acc: 0.6952 - val_loss: 1.5361 - val_acc: 0.4815\n",
      "Epoch 17/30\n",
      "50000/50000 [==============================] - 232s 5ms/step - loss: 0.8621 - acc: 0.7028 - val_loss: 1.7607 - val_acc: 0.4444\n",
      "Epoch 18/30\n",
      "50000/50000 [==============================] - 232s 5ms/step - loss: 0.8312 - acc: 0.7127 - val_loss: 1.5696 - val_acc: 0.4848\n",
      "Epoch 19/30\n",
      "50000/50000 [==============================] - 230s 5ms/step - loss: 0.7994 - acc: 0.7257 - val_loss: 1.5891 - val_acc: 0.4857\n",
      "Epoch 20/30\n",
      "50000/50000 [==============================] - 232s 5ms/step - loss: 0.7679 - acc: 0.7389 - val_loss: 1.5672 - val_acc: 0.4965\n",
      "Epoch 21/30\n",
      "50000/50000 [==============================] - 229s 5ms/step - loss: 0.7330 - acc: 0.7516 - val_loss: 1.6470 - val_acc: 0.4787\n",
      "Epoch 22/30\n",
      "50000/50000 [==============================] - 228s 5ms/step - loss: 0.7056 - acc: 0.7637 - val_loss: 1.6372 - val_acc: 0.4835\n",
      "Epoch 23/30\n",
      "50000/50000 [==============================] - 230s 5ms/step - loss: 0.6775 - acc: 0.7718 - val_loss: 1.6605 - val_acc: 0.4782\n",
      "Epoch 24/30\n",
      "50000/50000 [==============================] - 229s 5ms/step - loss: 0.6467 - acc: 0.7831 - val_loss: 1.7023 - val_acc: 0.4756\n",
      "Epoch 25/30\n",
      "50000/50000 [==============================] - 228s 5ms/step - loss: 0.6218 - acc: 0.7921 - val_loss: 1.7407 - val_acc: 0.4725\n",
      "Epoch 26/30\n",
      "50000/50000 [==============================] - 228s 5ms/step - loss: 0.5963 - acc: 0.8012 - val_loss: 1.7823 - val_acc: 0.4707\n",
      "Epoch 27/30\n",
      "50000/50000 [==============================] - 229s 5ms/step - loss: 0.5676 - acc: 0.8096 - val_loss: 1.8404 - val_acc: 0.4709\n",
      "Epoch 28/30\n",
      "50000/50000 [==============================] - 227s 5ms/step - loss: 0.5431 - acc: 0.8208 - val_loss: 1.7777 - val_acc: 0.4805\n",
      "Epoch 29/30\n",
      "50000/50000 [==============================] - 228s 5ms/step - loss: 0.5233 - acc: 0.8279 - val_loss: 1.9193 - val_acc: 0.4645\n",
      "Epoch 30/30\n",
      "50000/50000 [==============================] - 227s 5ms/step - loss: 0.5017 - acc: 0.8330 - val_loss: 1.8568 - val_acc: 0.4705\n"
     ]
    }
   ],
   "source": [
    "results = {}\n",
    "\n",
    "keras.backend.clear_session() # 把舊的 Graph 清掉\n",
    "model = build_mlp(input_shape=x_train.shape[1:])\n",
    "model.summary()\n",
    "optimizer = keras.optimizers.SGD(lr=LEARNING_RATE, nesterov=True, momentum=MOMENTUM)\n",
    "model.compile(loss=\"categorical_crossentropy\", metrics=[\"accuracy\"], optimizer=optimizer)\n",
    "\n",
    "model.fit(x_train, y_train, \n",
    "          epochs=EPOCHS, \n",
    "          batch_size=BATCH_SIZE, \n",
    "          validation_data=(x_test, y_test), \n",
    "          shuffle=True)\n",
    "\n",
    "\n",
    "# Collect results\n",
    "train_loss = model.history.history[\"loss\"]\n",
    "valid_loss = model.history.history[\"val_loss\"]\n",
    "train_acc = model.history.history[\"acc\"]\n",
    "valid_acc = model.history.history[\"val_acc\"]"
   ]
  },
  {
   "cell_type": "code",
   "execution_count": 21,
   "metadata": {},
   "outputs": [
    {
     "data": {
      "image/png": "[encoded data removed]",
      "text/plain": [
       "<Figure size 432x288 with 1 Axes>"
      ]
     },
     "metadata": {
      "needs_background": "light"
     },
     "output_type": "display_data"
    },
    {
     "data": {
      "image/png": "[encoded data removed]",
      "text/plain": [
       "<Figure size 432x288 with 1 Axes>"
      ]
     },
     "metadata": {
      "needs_background": "light"
     },
     "output_type": "display_data"
    }
   ],
   "source": [
    "import matplotlib.pyplot as plt\n",
    "%matplotlib inline\n",
    "\n",
    "plt.plot(range(len(train_loss)), train_loss, label=\"train loss\")\n",
    "plt.plot(range(len(valid_loss)), valid_loss, label=\"valid loss\")\n",
    "plt.legend()\n",
    "plt.title(\"Loss\")\n",
    "plt.show()\n",
    "\n",
    "plt.plot(range(len(train_acc)), train_acc, label=\"train accuracy\")\n",
    "plt.plot(range(len(valid_acc)), valid_acc, label=\"valid accuracy\")\n",
    "plt.legend()\n",
    "plt.title(\"Accuracy\")\n",
    "plt.show()"
   ]
  },
  {
   "cell_type": "code",
   "execution_count": null,
   "metadata": {},
   "outputs": [],
   "source": []
  }
 ],
 "metadata": {
  "kernelspec": {
   "display_name": "Python 3",
   "language": "python",
   "name": "python3"
  },
  "language_info": {
   "codemirror_mode": {
    "name": "ipython",
    "version": 3
   },
   "file_extension": ".py",
   "mimetype": "text/x-python",
   "name": "python",
   "nbconvert_exporter": "python",
   "pygments_lexer": "ipython3",
   "version": "3.7.1"
  }
 },
 "nbformat": 4,
 "nbformat_minor": 2
}
