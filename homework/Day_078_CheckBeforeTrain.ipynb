{
 "cells": [
  {
   "cell_type": "markdown",
   "metadata": {},
   "source": [
    "## Work\n",
    "1. 請嘗試將 preproc_x 替換成以每筆資料的 min/max 進行標準化至 -1 ~ 1 間，再進行訓練\n",
    "2. 請嘗試將 mlp 疊更深 (e.g 5~10 層)，進行訓練後觀察 learning curve 的走勢\n",
    "3. (optional) 請改用 GPU 進行訓練 (如果你有 GPU 的話)，比較使用 CPU 與 GPU 的訓練速度"
   ]
  },
  {
   "cell_type": "code",
   "execution_count": 2,
   "metadata": {},
   "outputs": [
    {
     "name": "stdout",
     "output_type": "stream",
     "text": [
      "/bin/sh: nvidia-smi: command not found\r\n"
     ]
    }
   ],
   "source": [
    "## \n",
    "!nvidia-smi"
   ]
  },
  {
   "cell_type": "code",
   "execution_count": 3,
   "metadata": {},
   "outputs": [
    {
     "name": "stderr",
     "output_type": "stream",
     "text": [
      "Using TensorFlow backend.\n"
     ]
    }
   ],
   "source": [
    "import os\n",
    "import keras\n",
    "\n",
    "# 請嘗試設定 GPU：os.environ\n",
    "os.environ[\"CUDA_VISIBLE_DEVICES\"] = \"\""
   ]
  },
  {
   "cell_type": "code",
   "execution_count": 4,
   "metadata": {},
   "outputs": [],
   "source": [
    "train, test = keras.datasets.cifar10.load_data()"
   ]
  },
  {
   "cell_type": "code",
   "execution_count": 5,
   "metadata": {},
   "outputs": [],
   "source": [
    "## 資料前處理\n",
    "def preproc_x(x, flatten=True):\n",
    "    x = 2*(((x - x.min())) / (x.max() - x.min()) -0.5)\n",
    "    if flatten:\n",
    "        x = x.reshape((len(x), -1))\n",
    "    return x\n",
    "\n",
    "def preproc_y(y, num_classes=10):\n",
    "    if y.shape[-1] == 1:\n",
    "        y = keras.utils.to_categorical(y, num_classes)\n",
    "    return y      "
   ]
  },
  {
   "cell_type": "code",
   "execution_count": 6,
   "metadata": {},
   "outputs": [],
   "source": [
    "x_train, y_train = train\n",
    "x_test, y_test = test\n",
    "\n",
    "# Preproc the inputs\n",
    "x_train = preproc_x(x_train)\n",
    "x_test = preproc_x(x_test)\n",
    "\n",
    "# Preprc the outputs\n",
    "y_train = preproc_y(y_train)\n",
    "y_test = preproc_y(y_test)"
   ]
  },
  {
   "cell_type": "code",
   "execution_count": 7,
   "metadata": {},
   "outputs": [
    {
     "name": "stdout",
     "output_type": "stream",
     "text": [
      "WARNING:tensorflow:From /Users/YuwenChiu/anaconda3/lib/python3.7/site-packages/tensorflow/python/framework/op_def_library.py:263: colocate_with (from tensorflow.python.framework.ops) is deprecated and will be removed in a future version.\n",
      "Instructions for updating:\n",
      "Colocations handled automatically by placer.\n"
     ]
    }
   ],
   "source": [
    "def build_mlp(input_shape, output_units=10, num_neurons=[512, 256, 128, 128, 128]):\n",
    "    input_layer = keras.layers.Input(input_shape)\n",
    "    \n",
    "    for i, n_units in enumerate(num_neurons):\n",
    "        if i == 0:\n",
    "            x = keras.layers.Dense(units=n_units, activation=\"relu\", name=\"hidden_layer\"+str(i+1))(input_layer)\n",
    "        else:\n",
    "            x = keras.layers.Dense(units=n_units, activation=\"relu\", name=\"hidden_layer\"+str(i+1))(x)\n",
    "    \n",
    "    out = keras.layers.Dense(units=output_units, activation=\"softmax\", name=\"output\")(x)\n",
    "    \n",
    "    model = keras.models.Model(inputs=[input_layer], outputs=[out])\n",
    "    return model\n",
    "model = build_mlp(input_shape=x_train.shape[1:])"
   ]
  },
  {
   "cell_type": "code",
   "execution_count": 8,
   "metadata": {},
   "outputs": [
    {
     "name": "stdout",
     "output_type": "stream",
     "text": [
      "_________________________________________________________________\n",
      "Layer (type)                 Output Shape              Param #   \n",
      "=================================================================\n",
      "input_1 (InputLayer)         (None, 3072)              0         \n",
      "_________________________________________________________________\n",
      "hidden_layer1 (Dense)        (None, 512)               1573376   \n",
      "_________________________________________________________________\n",
      "hidden_layer2 (Dense)        (None, 256)               131328    \n",
      "_________________________________________________________________\n",
      "hidden_layer3 (Dense)        (None, 128)               32896     \n",
      "_________________________________________________________________\n",
      "hidden_layer4 (Dense)        (None, 128)               16512     \n",
      "_________________________________________________________________\n",
      "hidden_layer5 (Dense)        (None, 128)               16512     \n",
      "_________________________________________________________________\n",
      "output (Dense)               (None, 10)                1290      \n",
      "=================================================================\n",
      "Total params: 1,771,914\n",
      "Trainable params: 1,771,914\n",
      "Non-trainable params: 0\n",
      "_________________________________________________________________\n"
     ]
    }
   ],
   "source": [
    "model.summary()"
   ]
  },
  {
   "cell_type": "code",
   "execution_count": 9,
   "metadata": {},
   "outputs": [],
   "source": [
    "## 超參數設定\n",
    "LEARNING_RATE = 0.001\n",
    "EPOCHS = 100\n",
    "BATCH_SIZE = 256"
   ]
  },
  {
   "cell_type": "code",
   "execution_count": 10,
   "metadata": {},
   "outputs": [],
   "source": [
    "optimizer = keras.optimizers.Adam(lr=LEARNING_RATE)\n",
    "model.compile(loss=\"categorical_crossentropy\", metrics=[\"accuracy\"], optimizer=optimizer)"
   ]
  },
  {
   "cell_type": "code",
   "execution_count": 11,
   "metadata": {},
   "outputs": [
    {
     "name": "stdout",
     "output_type": "stream",
     "text": [
      "WARNING:tensorflow:From /Users/YuwenChiu/anaconda3/lib/python3.7/site-packages/tensorflow/python/ops/math_ops.py:3066: to_int32 (from tensorflow.python.ops.math_ops) is deprecated and will be removed in a future version.\n",
      "Instructions for updating:\n",
      "Use tf.cast instead.\n",
      "Train on 50000 samples, validate on 10000 samples\n",
      "Epoch 1/100\n",
      "50000/50000 [==============================] - 251s 5ms/step - loss: 1.6933 - acc: 0.3973 - val_loss: 1.5139 - val_acc: 0.4684\n",
      "Epoch 2/100\n",
      "50000/50000 [==============================] - 238s 5ms/step - loss: 1.4675 - acc: 0.4801 - val_loss: 1.4728 - val_acc: 0.4769\n",
      "Epoch 3/100\n",
      "50000/50000 [==============================] - 236s 5ms/step - loss: 1.3519 - acc: 0.5204 - val_loss: 1.4223 - val_acc: 0.5006\n",
      "Epoch 4/100\n",
      "50000/50000 [==============================] - 236s 5ms/step - loss: 1.2538 - acc: 0.5570 - val_loss: 1.4086 - val_acc: 0.5105\n",
      "Epoch 5/100\n",
      "50000/50000 [==============================] - 235s 5ms/step - loss: 1.1776 - acc: 0.5839 - val_loss: 1.3524 - val_acc: 0.5291\n",
      "Epoch 6/100\n",
      "50000/50000 [==============================] - 234s 5ms/step - loss: 1.0931 - acc: 0.6100 - val_loss: 1.3710 - val_acc: 0.5311\n",
      "Epoch 7/100\n",
      "50000/50000 [==============================] - 234s 5ms/step - loss: 1.0219 - acc: 0.6363 - val_loss: 1.3916 - val_acc: 0.5228\n",
      "Epoch 8/100\n",
      "50000/50000 [==============================] - 234s 5ms/step - loss: 0.9476 - acc: 0.6642 - val_loss: 1.4062 - val_acc: 0.5377\n",
      "Epoch 9/100\n",
      "50000/50000 [==============================] - 233s 5ms/step - loss: 0.8767 - acc: 0.6894 - val_loss: 1.4288 - val_acc: 0.5351\n",
      "Epoch 10/100\n",
      "50000/50000 [==============================] - 234s 5ms/step - loss: 0.8070 - acc: 0.7138 - val_loss: 1.4977 - val_acc: 0.5297\n",
      "Epoch 11/100\n",
      "50000/50000 [==============================] - 233s 5ms/step - loss: 0.7470 - acc: 0.7339 - val_loss: 1.5002 - val_acc: 0.5321\n",
      "Epoch 12/100\n",
      "50000/50000 [==============================] - 234s 5ms/step - loss: 0.6890 - acc: 0.7542 - val_loss: 1.5907 - val_acc: 0.5362\n",
      "Epoch 13/100\n",
      "50000/50000 [==============================] - 240s 5ms/step - loss: 0.6232 - acc: 0.7785 - val_loss: 1.6733 - val_acc: 0.5411\n",
      "Epoch 14/100\n",
      "50000/50000 [==============================] - 234s 5ms/step - loss: 0.5765 - acc: 0.7943 - val_loss: 1.6882 - val_acc: 0.5338\n",
      "Epoch 15/100\n",
      "50000/50000 [==============================] - 235s 5ms/step - loss: 0.5210 - acc: 0.8157 - val_loss: 1.8429 - val_acc: 0.5407\n",
      "Epoch 16/100\n",
      "50000/50000 [==============================] - 236s 5ms/step - loss: 0.4802 - acc: 0.8288 - val_loss: 1.8811 - val_acc: 0.5344\n",
      "Epoch 17/100\n",
      "50000/50000 [==============================] - 235s 5ms/step - loss: 0.4376 - acc: 0.8440 - val_loss: 1.9707 - val_acc: 0.5374\n",
      "Epoch 18/100\n",
      "50000/50000 [==============================] - 234s 5ms/step - loss: 0.4054 - acc: 0.8557 - val_loss: 2.0687 - val_acc: 0.5357\n",
      "Epoch 19/100\n",
      "50000/50000 [==============================] - 234s 5ms/step - loss: 0.3764 - acc: 0.8665 - val_loss: 2.0885 - val_acc: 0.5337\n",
      "Epoch 20/100\n",
      "50000/50000 [==============================] - 234s 5ms/step - loss: 0.3527 - acc: 0.8737 - val_loss: 2.2222 - val_acc: 0.5377\n",
      "Epoch 21/100\n",
      "50000/50000 [==============================] - 233s 5ms/step - loss: 0.3259 - acc: 0.8847 - val_loss: 2.3469 - val_acc: 0.5320\n",
      "Epoch 22/100\n",
      "50000/50000 [==============================] - 234s 5ms/step - loss: 0.3098 - acc: 0.8909 - val_loss: 2.3903 - val_acc: 0.5307\n",
      "Epoch 23/100\n",
      "50000/50000 [==============================] - 231s 5ms/step - loss: 0.2924 - acc: 0.8972 - val_loss: 2.4425 - val_acc: 0.5235\n",
      "Epoch 24/100\n",
      "50000/50000 [==============================] - 233s 5ms/step - loss: 0.2667 - acc: 0.9059 - val_loss: 2.4872 - val_acc: 0.5293\n",
      "Epoch 25/100\n",
      "50000/50000 [==============================] - 234s 5ms/step - loss: 0.2564 - acc: 0.9106 - val_loss: 2.5994 - val_acc: 0.5334\n",
      "Epoch 26/100\n",
      "50000/50000 [==============================] - 234s 5ms/step - loss: 0.2367 - acc: 0.9170 - val_loss: 2.7460 - val_acc: 0.5356\n",
      "Epoch 27/100\n",
      "50000/50000 [==============================] - 234s 5ms/step - loss: 0.2250 - acc: 0.9216 - val_loss: 2.8187 - val_acc: 0.5257\n",
      "Epoch 28/100\n",
      "50000/50000 [==============================] - 233s 5ms/step - loss: 0.2139 - acc: 0.9249 - val_loss: 2.8905 - val_acc: 0.5307\n",
      "Epoch 29/100\n",
      "50000/50000 [==============================] - 234s 5ms/step - loss: 0.2091 - acc: 0.9271 - val_loss: 2.8781 - val_acc: 0.5263\n",
      "Epoch 30/100\n",
      "50000/50000 [==============================] - 234s 5ms/step - loss: 0.2079 - acc: 0.9295 - val_loss: 2.9278 - val_acc: 0.5305\n",
      "Epoch 31/100\n",
      "50000/50000 [==============================] - 233s 5ms/step - loss: 0.1979 - acc: 0.9314 - val_loss: 3.0557 - val_acc: 0.5306\n",
      "Epoch 32/100\n",
      "50000/50000 [==============================] - 234s 5ms/step - loss: 0.1827 - acc: 0.9374 - val_loss: 3.0255 - val_acc: 0.5303\n",
      "Epoch 33/100\n",
      "50000/50000 [==============================] - 233s 5ms/step - loss: 0.1840 - acc: 0.9368 - val_loss: 3.0418 - val_acc: 0.5290\n",
      "Epoch 34/100\n",
      "50000/50000 [==============================] - 234s 5ms/step - loss: 0.1706 - acc: 0.9403 - val_loss: 3.1520 - val_acc: 0.5280\n",
      "Epoch 35/100\n",
      "50000/50000 [==============================] - 233s 5ms/step - loss: 0.1628 - acc: 0.9437 - val_loss: 3.1574 - val_acc: 0.5348\n",
      "Epoch 36/100\n",
      "50000/50000 [==============================] - 234s 5ms/step - loss: 0.1634 - acc: 0.9443 - val_loss: 3.2849 - val_acc: 0.5279\n",
      "Epoch 37/100\n",
      "50000/50000 [==============================] - 233s 5ms/step - loss: 0.1654 - acc: 0.9427 - val_loss: 3.2525 - val_acc: 0.5217\n",
      "Epoch 38/100\n",
      "50000/50000 [==============================] - 233s 5ms/step - loss: 0.1423 - acc: 0.9504 - val_loss: 3.3052 - val_acc: 0.5288\n",
      "Epoch 39/100\n",
      "50000/50000 [==============================] - 234s 5ms/step - loss: 0.1612 - acc: 0.9455 - val_loss: 3.1560 - val_acc: 0.5274\n",
      "Epoch 40/100\n",
      "50000/50000 [==============================] - 233s 5ms/step - loss: 0.1488 - acc: 0.9500 - val_loss: 3.3212 - val_acc: 0.5294\n",
      "Epoch 41/100\n",
      "50000/50000 [==============================] - 232s 5ms/step - loss: 0.1560 - acc: 0.9469 - val_loss: 3.2214 - val_acc: 0.5266\n",
      "Epoch 42/100\n",
      "50000/50000 [==============================] - 233s 5ms/step - loss: 0.1331 - acc: 0.9542 - val_loss: 3.3135 - val_acc: 0.5318\n",
      "Epoch 43/100\n",
      "50000/50000 [==============================] - 234s 5ms/step - loss: 0.1193 - acc: 0.9595 - val_loss: 3.3515 - val_acc: 0.5297\n",
      "Epoch 44/100\n",
      "50000/50000 [==============================] - 233s 5ms/step - loss: 0.1434 - acc: 0.9516 - val_loss: 3.3120 - val_acc: 0.5333\n",
      "Epoch 45/100\n",
      "50000/50000 [==============================] - 233s 5ms/step - loss: 0.1352 - acc: 0.9529 - val_loss: 3.4757 - val_acc: 0.5302\n",
      "Epoch 46/100\n",
      "50000/50000 [==============================] - 233s 5ms/step - loss: 0.1367 - acc: 0.9535 - val_loss: 3.3807 - val_acc: 0.5249\n",
      "Epoch 47/100\n",
      "50000/50000 [==============================] - 233s 5ms/step - loss: 0.1225 - acc: 0.9589 - val_loss: 3.4819 - val_acc: 0.5196\n",
      "Epoch 48/100\n",
      "50000/50000 [==============================] - 234s 5ms/step - loss: 0.1327 - acc: 0.9553 - val_loss: 3.4744 - val_acc: 0.5306\n",
      "Epoch 49/100\n",
      "50000/50000 [==============================] - 233s 5ms/step - loss: 0.1201 - acc: 0.9596 - val_loss: 3.4620 - val_acc: 0.5263\n",
      "Epoch 50/100\n",
      "50000/50000 [==============================] - 233s 5ms/step - loss: 0.1364 - acc: 0.9542 - val_loss: 3.3430 - val_acc: 0.5260\n",
      "Epoch 51/100\n",
      "50000/50000 [==============================] - 236s 5ms/step - loss: 0.1206 - acc: 0.9602 - val_loss: 3.5300 - val_acc: 0.5320\n",
      "Epoch 52/100\n",
      "50000/50000 [==============================] - 235s 5ms/step - loss: 0.1149 - acc: 0.9608 - val_loss: 3.5271 - val_acc: 0.5362\n",
      "Epoch 53/100\n",
      "50000/50000 [==============================] - 236s 5ms/step - loss: 0.1119 - acc: 0.9624 - val_loss: 3.5882 - val_acc: 0.5266\n",
      "Epoch 54/100\n",
      "50000/50000 [==============================] - 235s 5ms/step - loss: 0.0905 - acc: 0.9701 - val_loss: 3.6342 - val_acc: 0.5200\n",
      "Epoch 55/100\n",
      "50000/50000 [==============================] - 234s 5ms/step - loss: 0.1152 - acc: 0.9617 - val_loss: 3.5534 - val_acc: 0.5259\n",
      "Epoch 56/100\n",
      "50000/50000 [==============================] - 233s 5ms/step - loss: 0.1149 - acc: 0.9617 - val_loss: 3.6685 - val_acc: 0.5238\n",
      "Epoch 57/100\n"
     ]
    },
    {
     "name": "stdout",
     "output_type": "stream",
     "text": [
      "50000/50000 [==============================] - 233s 5ms/step - loss: 0.1053 - acc: 0.9659 - val_loss: 3.5250 - val_acc: 0.5327\n",
      "Epoch 58/100\n",
      "50000/50000 [==============================] - 233s 5ms/step - loss: 0.1010 - acc: 0.9677 - val_loss: 3.5545 - val_acc: 0.5378\n",
      "Epoch 59/100\n",
      "50000/50000 [==============================] - 233s 5ms/step - loss: 0.0929 - acc: 0.9682 - val_loss: 3.6757 - val_acc: 0.5312\n",
      "Epoch 60/100\n",
      "50000/50000 [==============================] - 241s 5ms/step - loss: 0.1105 - acc: 0.9643 - val_loss: 3.5586 - val_acc: 0.5182\n",
      "Epoch 61/100\n",
      "50000/50000 [==============================] - 234s 5ms/step - loss: 0.0922 - acc: 0.9690 - val_loss: 3.7939 - val_acc: 0.5316\n",
      "Epoch 62/100\n",
      "50000/50000 [==============================] - 235s 5ms/step - loss: 0.0987 - acc: 0.9675 - val_loss: 3.6755 - val_acc: 0.5273\n",
      "Epoch 63/100\n",
      "50000/50000 [==============================] - 234s 5ms/step - loss: 0.1108 - acc: 0.9633 - val_loss: 3.6427 - val_acc: 0.5226\n",
      "Epoch 64/100\n",
      "50000/50000 [==============================] - 233s 5ms/step - loss: 0.0940 - acc: 0.9701 - val_loss: 3.6854 - val_acc: 0.5262\n",
      "Epoch 65/100\n",
      "50000/50000 [==============================] - 234s 5ms/step - loss: 0.0972 - acc: 0.9674 - val_loss: 3.7852 - val_acc: 0.5312\n",
      "Epoch 66/100\n",
      "50000/50000 [==============================] - 233s 5ms/step - loss: 0.1006 - acc: 0.9675 - val_loss: 3.6564 - val_acc: 0.5256\n",
      "Epoch 67/100\n",
      "50000/50000 [==============================] - 234s 5ms/step - loss: 0.1007 - acc: 0.9670 - val_loss: 3.6641 - val_acc: 0.5277\n",
      "Epoch 68/100\n",
      "50000/50000 [==============================] - 233s 5ms/step - loss: 0.0979 - acc: 0.9688 - val_loss: 3.6430 - val_acc: 0.5301\n",
      "Epoch 69/100\n",
      "50000/50000 [==============================] - 234s 5ms/step - loss: 0.0756 - acc: 0.9750 - val_loss: 3.7374 - val_acc: 0.5292\n",
      "Epoch 70/100\n",
      "50000/50000 [==============================] - 235s 5ms/step - loss: 0.0955 - acc: 0.9698 - val_loss: 3.6268 - val_acc: 0.5261\n",
      "Epoch 71/100\n",
      "50000/50000 [==============================] - 233s 5ms/step - loss: 0.0967 - acc: 0.9693 - val_loss: 3.6068 - val_acc: 0.5261\n",
      "Epoch 72/100\n",
      "50000/50000 [==============================] - 235s 5ms/step - loss: 0.0799 - acc: 0.9735 - val_loss: 3.7773 - val_acc: 0.5286\n",
      "Epoch 73/100\n",
      "50000/50000 [==============================] - 232s 5ms/step - loss: 0.0870 - acc: 0.9720 - val_loss: 3.7889 - val_acc: 0.5326\n",
      "Epoch 74/100\n",
      "50000/50000 [==============================] - 233s 5ms/step - loss: 0.1030 - acc: 0.9661 - val_loss: 3.6573 - val_acc: 0.5322\n",
      "Epoch 75/100\n",
      "50000/50000 [==============================] - 233s 5ms/step - loss: 0.0768 - acc: 0.9748 - val_loss: 3.7829 - val_acc: 0.5315\n",
      "Epoch 76/100\n",
      "50000/50000 [==============================] - 233s 5ms/step - loss: 0.0730 - acc: 0.9755 - val_loss: 3.7717 - val_acc: 0.5328\n",
      "Epoch 77/100\n",
      "50000/50000 [==============================] - 234s 5ms/step - loss: 0.0822 - acc: 0.9726 - val_loss: 3.7728 - val_acc: 0.5297\n",
      "Epoch 78/100\n",
      "50000/50000 [==============================] - 233s 5ms/step - loss: 0.1057 - acc: 0.9663 - val_loss: 3.5735 - val_acc: 0.5280\n",
      "Epoch 79/100\n",
      "50000/50000 [==============================] - 233s 5ms/step - loss: 0.0839 - acc: 0.9737 - val_loss: 3.7501 - val_acc: 0.5292\n",
      "Epoch 80/100\n",
      "50000/50000 [==============================] - 233s 5ms/step - loss: 0.0799 - acc: 0.9726 - val_loss: 3.7453 - val_acc: 0.5350\n",
      "Epoch 81/100\n",
      "50000/50000 [==============================] - 235s 5ms/step - loss: 0.0765 - acc: 0.9752 - val_loss: 3.8199 - val_acc: 0.5281\n",
      "Epoch 82/100\n",
      "50000/50000 [==============================] - 236s 5ms/step - loss: 0.0652 - acc: 0.9786 - val_loss: 3.8607 - val_acc: 0.5285\n",
      "Epoch 83/100\n",
      "50000/50000 [==============================] - 234s 5ms/step - loss: 0.0951 - acc: 0.9695 - val_loss: 3.7215 - val_acc: 0.5274\n",
      "Epoch 84/100\n",
      "50000/50000 [==============================] - 236s 5ms/step - loss: 0.0608 - acc: 0.9808 - val_loss: 3.7779 - val_acc: 0.5333\n",
      "Epoch 85/100\n",
      "50000/50000 [==============================] - 233s 5ms/step - loss: 0.0707 - acc: 0.9773 - val_loss: 3.8967 - val_acc: 0.5356\n",
      "Epoch 86/100\n",
      "50000/50000 [==============================] - 233s 5ms/step - loss: 0.0814 - acc: 0.9739 - val_loss: 3.8879 - val_acc: 0.5316\n",
      "Epoch 87/100\n",
      "50000/50000 [==============================] - 233s 5ms/step - loss: 0.0822 - acc: 0.9725 - val_loss: 3.7019 - val_acc: 0.5319\n",
      "Epoch 88/100\n",
      "50000/50000 [==============================] - 233s 5ms/step - loss: 0.0705 - acc: 0.9767 - val_loss: 3.8952 - val_acc: 0.5229\n",
      "Epoch 89/100\n",
      "50000/50000 [==============================] - 233s 5ms/step - loss: 0.0791 - acc: 0.9748 - val_loss: 3.7960 - val_acc: 0.5241\n",
      "Epoch 90/100\n",
      "50000/50000 [==============================] - 235s 5ms/step - loss: 0.0762 - acc: 0.9754 - val_loss: 3.8569 - val_acc: 0.5233\n",
      "Epoch 91/100\n",
      "50000/50000 [==============================] - 233s 5ms/step - loss: 0.0765 - acc: 0.9754 - val_loss: 3.7997 - val_acc: 0.5321\n",
      "Epoch 92/100\n",
      "50000/50000 [==============================] - 233s 5ms/step - loss: 0.0805 - acc: 0.9739 - val_loss: 3.8861 - val_acc: 0.5315\n",
      "Epoch 93/100\n",
      "50000/50000 [==============================] - 232s 5ms/step - loss: 0.0549 - acc: 0.9824 - val_loss: 3.9014 - val_acc: 0.5254\n",
      "Epoch 94/100\n",
      "50000/50000 [==============================] - 2649s 53ms/step - loss: 0.0654 - acc: 0.9779 - val_loss: 3.9057 - val_acc: 0.5304\n",
      "Epoch 95/100\n",
      "50000/50000 [==============================] - 227s 5ms/step - loss: 0.0745 - acc: 0.9763 - val_loss: 3.8150 - val_acc: 0.5289\n",
      "Epoch 96/100\n",
      "50000/50000 [==============================] - 228s 5ms/step - loss: 0.0806 - acc: 0.9747 - val_loss: 3.8335 - val_acc: 0.5338\n",
      "Epoch 97/100\n",
      "50000/50000 [==============================] - 227s 5ms/step - loss: 0.0691 - acc: 0.9784 - val_loss: 3.8387 - val_acc: 0.5332\n",
      "Epoch 98/100\n",
      "50000/50000 [==============================] - 228s 5ms/step - loss: 0.0593 - acc: 0.9813 - val_loss: 3.9657 - val_acc: 0.5326\n",
      "Epoch 99/100\n",
      "50000/50000 [==============================] - 227s 5ms/step - loss: 0.0526 - acc: 0.9821 - val_loss: 3.9145 - val_acc: 0.5303\n",
      "Epoch 100/100\n",
      "50000/50000 [==============================] - 227s 5ms/step - loss: 0.0869 - acc: 0.9725 - val_loss: 3.7532 - val_acc: 0.5305\n"
     ]
    },
    {
     "data": {
      "text/plain": [
       "<keras.callbacks.History at 0xb3302cda0>"
      ]
     },
     "execution_count": 11,
     "metadata": {},
     "output_type": "execute_result"
    }
   ],
   "source": [
    "model.fit(x_train, y_train, \n",
    "          epochs=EPOCHS, \n",
    "          batch_size=BATCH_SIZE, \n",
    "          validation_data=(x_test, y_test), \n",
    "          shuffle=True)"
   ]
  },
  {
   "cell_type": "code",
   "execution_count": 13,
   "metadata": {},
   "outputs": [
    {
     "data": {
      "image/png": "[encoded data removed]",
      "text/plain": [
       "<Figure size 432x288 with 1 Axes>"
      ]
     },
     "metadata": {
      "needs_background": "light"
     },
     "output_type": "display_data"
    },
    {
     "data": {
      "image/png": "[encoded data removed]",
      "text/plain": [
       "<Figure size 432x288 with 1 Axes>"
      ]
     },
     "metadata": {
      "needs_background": "light"
     },
     "output_type": "display_data"
    }
   ],
   "source": [
    "import matplotlib.pyplot as plt\n",
    "\n",
    "\n",
    "train_loss = model.history.history[\"loss\"]\n",
    "valid_loss = model.history.history[\"val_loss\"]\n",
    "\n",
    "train_acc = model.history.history[\"acc\"]\n",
    "valid_acc = model.history.history[\"val_acc\"]\n",
    "\n",
    "plt.plot(range(len(train_loss)), train_loss, label=\"train loss\")\n",
    "plt.plot(range(len(valid_loss)), valid_loss, label=\"valid loss\")\n",
    "plt.legend()\n",
    "plt.title(\"Loss\")\n",
    "plt.show()\n",
    "\n",
    "plt.plot(range(len(train_acc)), train_acc, label=\"train accuracy\")\n",
    "plt.plot(range(len(valid_acc)), valid_acc, label=\"valid accuracy\")\n",
    "plt.legend()\n",
    "plt.title(\"Accuracy\")\n",
    "plt.show()"
   ]
  },
  {
   "cell_type": "code",
   "execution_count": null,
   "metadata": {},
   "outputs": [],
   "source": []
  }
 ],
 "metadata": {
  "kernelspec": {
   "display_name": "Python 3",
   "language": "python",
   "name": "python3"
  },
  "language_info": {
   "codemirror_mode": {
    "name": "ipython",
    "version": 3
   },
   "file_extension": ".py",
   "mimetype": "text/x-python",
   "name": "python",
   "nbconvert_exporter": "python",
   "pygments_lexer": "ipython3",
   "version": "3.7.1"
  }
 },
 "nbformat": 4,
 "nbformat_minor": 2
}
