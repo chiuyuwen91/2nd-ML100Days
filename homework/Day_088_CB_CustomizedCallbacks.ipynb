{
 "cells": [
  {
   "cell_type": "markdown",
   "metadata": {},
   "source": [
    "## Work\n",
    "1. 請嘗試寫一個 callback 用來記錄各類別在訓練過程中，對驗證集的 True Positive 與 True Negative"
   ]
  },
  {
   "cell_type": "code",
   "execution_count": 1,
   "metadata": {},
   "outputs": [
    {
     "name": "stderr",
     "output_type": "stream",
     "text": [
      "Using TensorFlow backend.\n"
     ]
    }
   ],
   "source": [
    "import os\n",
    "import keras\n",
    "\n",
    "# Disable GPU\n",
    "os.environ[\"CUDA_VISIBLE_DEVICES\"] = \"\""
   ]
  },
  {
   "cell_type": "code",
   "execution_count": 2,
   "metadata": {},
   "outputs": [],
   "source": [
    "train, test = keras.datasets.cifar10.load_data()"
   ]
  },
  {
   "cell_type": "code",
   "execution_count": 3,
   "metadata": {},
   "outputs": [],
   "source": [
    "## 資料前處理\n",
    "def preproc_x(x, flatten=True):\n",
    "    x = x / 255.\n",
    "    if flatten:\n",
    "        x = x.reshape((len(x), -1))\n",
    "    return x\n",
    "\n",
    "def preproc_y(y, num_classes=10):\n",
    "    if y.shape[-1] == 1:\n",
    "        y = keras.utils.to_categorical(y, num_classes)\n",
    "    return y    "
   ]
  },
  {
   "cell_type": "code",
   "execution_count": 4,
   "metadata": {},
   "outputs": [],
   "source": [
    "x_train, y_train = train\n",
    "x_test, y_test = test\n",
    "\n",
    "# Preproc the inputs\n",
    "x_train = preproc_x(x_train)\n",
    "x_test = preproc_x(x_test)\n",
    "\n",
    "# Preprc the outputs\n",
    "y_train = preproc_y(y_train)\n",
    "y_test = preproc_y(y_test)"
   ]
  },
  {
   "cell_type": "code",
   "execution_count": 5,
   "metadata": {},
   "outputs": [],
   "source": [
    "from keras.layers import BatchNormalization\n",
    "def build_mlp(input_shape, output_units=10, num_neurons=[256, 256, 256]):\n",
    "    input_layer = keras.layers.Input(input_shape)\n",
    "    \n",
    "    for i, n_units in enumerate(num_neurons):\n",
    "        if i == 0:\n",
    "            x = keras.layers.Dense(units=n_units,\n",
    "                                   activation='relu',\n",
    "                                   name='hidden_layer'+str(i+1))(input_layer)\n",
    "            x = BatchNormalization()(x)\n",
    "        else:\n",
    "            x = keras.layers.Dense(units=n_units,\n",
    "                                   activation='relu',\n",
    "                                   name='hidden_layer'+str(i+1))(x)\n",
    "            x = BatchNormalization()(x)\n",
    "    out = keras.layers.Dense(units=output_units, activation='softmax', name='output')(x)\n",
    "    \n",
    "    model = keras.models.Model(inputs=[input_layer], outputs=[out])\n",
    "    return model"
   ]
  },
  {
   "cell_type": "code",
   "execution_count": 6,
   "metadata": {},
   "outputs": [],
   "source": [
    "## 超參數設定\n",
    "LEARNING_RATE = 1e-3\n",
    "EPOCHS = 25\n",
    "BATCH_SIZE = 1024\n",
    "MOMENTUM = 0.95"
   ]
  },
  {
   "cell_type": "code",
   "execution_count": 8,
   "metadata": {},
   "outputs": [],
   "source": [
    "# 載入 Callbacks\n",
    "from keras.callbacks import Callback\n",
    "from sklearn.metrics import confusion_matrix\n",
    "\n",
    "# Record_fp_tp\n",
    "class Record_tp_tn(Callback):\n",
    "    def on_train_begin(self, epoch, logs = {}):\n",
    "        logs = logs or {}\n",
    "        record_items = ['val_auc', 'val_flsc', 'val_fp', 'val_fn', 'val_tp', 'val_tn']\n",
    "        for i in record_items:\n",
    "            if i not in self.params['metrics']:\n",
    "                self.params['metrics'].append(i)\n",
    "    \n",
    "    def on_epoch_end(self, epoch, logs = {}, thres=0.5):\n",
    "        logs = logs or {}\n",
    "        y_true = self.validation_data[1].argmax(axis = 1)\n",
    "        y_pred = self.model.predict(self.validation_data[0])\n",
    "        y_pred = (y_pred[:, 1] >= thres) * 1\n",
    "    \n",
    "        cm = confusion_matrix(y_true, y_pred)\n",
    "        logs['Val_TP'] = cm[0][0]\n",
    "        logs['Val_TN'] = cm[1][1]\n",
    "           \n",
    "rec_tptn = Record_tp_tn()"
   ]
  },
  {
   "cell_type": "code",
   "execution_count": 9,
   "metadata": {
    "scrolled": true
   },
   "outputs": [
    {
     "name": "stdout",
     "output_type": "stream",
     "text": [
      "WARNING:tensorflow:From /Users/YuwenChiu/anaconda3/lib/python3.7/site-packages/tensorflow/python/framework/op_def_library.py:263: colocate_with (from tensorflow.python.framework.ops) is deprecated and will be removed in a future version.\n",
      "Instructions for updating:\n",
      "Colocations handled automatically by placer.\n",
      "_________________________________________________________________\n",
      "Layer (type)                 Output Shape              Param #   \n",
      "=================================================================\n",
      "input_1 (InputLayer)         (None, 3072)              0         \n",
      "_________________________________________________________________\n",
      "hidden_layer1 (Dense)        (None, 256)               786688    \n",
      "_________________________________________________________________\n",
      "batch_normalization_1 (Batch (None, 256)               1024      \n",
      "_________________________________________________________________\n",
      "hidden_layer2 (Dense)        (None, 256)               65792     \n",
      "_________________________________________________________________\n",
      "batch_normalization_2 (Batch (None, 256)               1024      \n",
      "_________________________________________________________________\n",
      "hidden_layer3 (Dense)        (None, 256)               65792     \n",
      "_________________________________________________________________\n",
      "batch_normalization_3 (Batch (None, 256)               1024      \n",
      "_________________________________________________________________\n",
      "output (Dense)               (None, 10)                2570      \n",
      "=================================================================\n",
      "Total params: 923,914\n",
      "Trainable params: 922,378\n",
      "Non-trainable params: 1,536\n",
      "_________________________________________________________________\n",
      "WARNING:tensorflow:From /Users/YuwenChiu/anaconda3/lib/python3.7/site-packages/tensorflow/python/ops/math_ops.py:3066: to_int32 (from tensorflow.python.ops.math_ops) is deprecated and will be removed in a future version.\n",
      "Instructions for updating:\n",
      "Use tf.cast instead.\n",
      "Train on 50000 samples, validate on 10000 samples\n",
      "Epoch 1/25\n",
      "50000/50000 [==============================] - 124s 2ms/step - loss: 2.2661 - acc: 0.2603 - val_loss: 2.2291 - val_acc: 0.2961\n",
      "Epoch 2/25\n",
      "50000/50000 [==============================] - 120s 2ms/step - loss: 1.7634 - acc: 0.3866 - val_loss: 1.8238 - val_acc: 0.3813\n",
      "Epoch 3/25\n",
      "50000/50000 [==============================] - 121s 2ms/step - loss: 1.6306 - acc: 0.4299 - val_loss: 1.7156 - val_acc: 0.4070\n",
      "Epoch 4/25\n",
      "50000/50000 [==============================] - 119s 2ms/step - loss: 1.5544 - acc: 0.4573 - val_loss: 1.6321 - val_acc: 0.4310\n",
      "Epoch 5/25\n",
      "50000/50000 [==============================] - 119s 2ms/step - loss: 1.5022 - acc: 0.4733 - val_loss: 1.5908 - val_acc: 0.4415\n",
      "Epoch 6/25\n",
      "50000/50000 [==============================] - 119s 2ms/step - loss: 1.4585 - acc: 0.4884 - val_loss: 1.5552 - val_acc: 0.4495\n",
      "Epoch 7/25\n",
      "50000/50000 [==============================] - 118s 2ms/step - loss: 1.4210 - acc: 0.5019 - val_loss: 1.5445 - val_acc: 0.4604\n",
      "Epoch 8/25\n",
      "50000/50000 [==============================] - 1296s 26ms/step - loss: 1.3899 - acc: 0.5129 - val_loss: 1.5445 - val_acc: 0.4567\n",
      "Epoch 9/25\n",
      "50000/50000 [==============================] - 134s 3ms/step - loss: 1.3596 - acc: 0.5243 - val_loss: 1.5128 - val_acc: 0.4693\n",
      "Epoch 10/25\n",
      "50000/50000 [==============================] - 130s 3ms/step - loss: 1.3332 - acc: 0.5352 - val_loss: 1.5102 - val_acc: 0.4698\n",
      "Epoch 11/25\n",
      "50000/50000 [==============================] - 131s 3ms/step - loss: 1.3095 - acc: 0.5438 - val_loss: 1.4948 - val_acc: 0.4758\n",
      "Epoch 12/25\n",
      "50000/50000 [==============================] - 129s 3ms/step - loss: 1.2860 - acc: 0.5531 - val_loss: 1.4865 - val_acc: 0.4802\n",
      "Epoch 13/25\n",
      "50000/50000 [==============================] - 130s 3ms/step - loss: 1.2639 - acc: 0.5601 - val_loss: 1.4759 - val_acc: 0.4780\n",
      "Epoch 14/25\n",
      "50000/50000 [==============================] - 130s 3ms/step - loss: 1.2422 - acc: 0.5670 - val_loss: 1.4683 - val_acc: 0.4821\n",
      "Epoch 15/25\n",
      "50000/50000 [==============================] - 129s 3ms/step - loss: 1.2220 - acc: 0.5758 - val_loss: 1.4738 - val_acc: 0.4777\n",
      "Epoch 16/25\n",
      "50000/50000 [==============================] - 129s 3ms/step - loss: 1.2030 - acc: 0.5831 - val_loss: 1.4685 - val_acc: 0.4850\n",
      "Epoch 17/25\n",
      "50000/50000 [==============================] - 130s 3ms/step - loss: 1.1832 - acc: 0.5907 - val_loss: 1.4591 - val_acc: 0.4895\n",
      "Epoch 18/25\n",
      "50000/50000 [==============================] - 130s 3ms/step - loss: 1.1659 - acc: 0.5962 - val_loss: 1.4562 - val_acc: 0.4891\n",
      "Epoch 19/25\n",
      "50000/50000 [==============================] - 129s 3ms/step - loss: 1.1474 - acc: 0.6033 - val_loss: 1.4612 - val_acc: 0.4878\n",
      "Epoch 20/25\n",
      "50000/50000 [==============================] - 130s 3ms/step - loss: 1.1292 - acc: 0.6108 - val_loss: 1.4446 - val_acc: 0.4979\n",
      "Epoch 21/25\n",
      "50000/50000 [==============================] - 130s 3ms/step - loss: 1.1120 - acc: 0.6167 - val_loss: 1.4518 - val_acc: 0.4938\n",
      "Epoch 22/25\n",
      "50000/50000 [==============================] - 130s 3ms/step - loss: 1.0946 - acc: 0.6246 - val_loss: 1.4463 - val_acc: 0.4953\n",
      "Epoch 23/25\n",
      "50000/50000 [==============================] - 130s 3ms/step - loss: 1.0800 - acc: 0.6310 - val_loss: 1.4544 - val_acc: 0.4916\n",
      "Epoch 24/25\n",
      "50000/50000 [==============================] - 129s 3ms/step - loss: 1.0637 - acc: 0.6358 - val_loss: 1.4490 - val_acc: 0.4928\n",
      "Epoch 25/25\n",
      "50000/50000 [==============================] - 130s 3ms/step - loss: 1.0461 - acc: 0.6440 - val_loss: 1.4488 - val_acc: 0.4981\n"
     ]
    }
   ],
   "source": [
    "model = build_mlp(input_shape=x_train.shape[1:])\n",
    "model.summary()\n",
    "optimizer = keras.optimizers.SGD(lr=LEARNING_RATE, nesterov=True, momentum=MOMENTUM)\n",
    "model.compile(loss=\"categorical_crossentropy\", metrics=[\"accuracy\"], optimizer=optimizer)\n",
    "\n",
    "model.fit(x_train, y_train, \n",
    "          epochs=EPOCHS, \n",
    "          batch_size=BATCH_SIZE, \n",
    "          validation_data=(x_test, y_test), \n",
    "          shuffle=True,\n",
    "          callbacks=[rec_tptn])\n",
    "\n",
    "# Collect results\n",
    "train_loss = model.history.history[\"loss\"]\n",
    "valid_loss = model.history.history[\"val_loss\"]\n",
    "train_acc = model.history.history[\"acc\"]\n",
    "valid_acc = model.history.history[\"val_acc\"]\n",
    "\n",
    "valid_tp = model.history.history['Val_TP']\n",
    "valid_tn = model.history.history['Val_TN']"
   ]
  },
  {
   "cell_type": "code",
   "execution_count": 10,
   "metadata": {},
   "outputs": [
    {
     "data": {
      "image/png": "[encoded data removed]",
      "text/plain": [
       "<Figure size 432x288 with 1 Axes>"
      ]
     },
     "metadata": {
      "needs_background": "light"
     },
     "output_type": "display_data"
    },
    {
     "data": {
      "image/png": "[encoded data removed]",
      "text/plain": [
       "<Figure size 432x288 with 1 Axes>"
      ]
     },
     "metadata": {
      "needs_background": "light"
     },
     "output_type": "display_data"
    },
    {
     "data": {
      "image/png": "[encoded data removed]",
      "text/plain": [
       "<Figure size 432x288 with 1 Axes>"
      ]
     },
     "metadata": {
      "needs_background": "light"
     },
     "output_type": "display_data"
    }
   ],
   "source": [
    "import matplotlib.pyplot as plt\n",
    "%matplotlib inline\n",
    "\n",
    "plt.plot(range(len(train_loss)), train_loss, label=\"train loss\")\n",
    "plt.plot(range(len(valid_loss)), valid_loss, label=\"valid loss\")\n",
    "plt.legend()\n",
    "plt.title(\"Loss\")\n",
    "plt.show()\n",
    "\n",
    "plt.plot(range(len(train_acc)), train_acc, label=\"train accuracy\")\n",
    "plt.plot(range(len(valid_acc)), valid_acc, label=\"valid accuracy\")\n",
    "plt.legend()\n",
    "plt.title(\"Accuracy\")\n",
    "plt.show()\n",
    "\n",
    "plt.plot(range(len(valid_tp)), valid_tp, label=\"valid tp\", color=\"navy\")\n",
    "plt.plot(range(len(valid_tn)), valid_tn, label=\"valid tn\", color=\"red\")\n",
    "plt.legend()\n",
    "plt.title(\"True positives and True Negatives\")\n",
    "plt.show()\n"
   ]
  },
  {
   "cell_type": "code",
   "execution_count": null,
   "metadata": {},
   "outputs": [],
   "source": []
  }
 ],
 "metadata": {
  "kernelspec": {
   "display_name": "Python 3",
   "language": "python",
   "name": "python3"
  },
  "language_info": {
   "codemirror_mode": {
    "name": "ipython",
    "version": 3
   },
   "file_extension": ".py",
   "mimetype": "text/x-python",
   "name": "python",
   "nbconvert_exporter": "python",
   "pygments_lexer": "ipython3",
   "version": "3.7.1"
  }
 },
 "nbformat": 4,
 "nbformat_minor": 2
}
