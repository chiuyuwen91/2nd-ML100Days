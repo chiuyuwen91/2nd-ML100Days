{
 "cells": [
  {
   "cell_type": "markdown",
   "metadata": {},
   "source": [
    "## Work\n",
    "1. 試比較 save_best_only 與否的差異\n",
    "2. 請僅存入將 save_weights_only 設定為 True, 並嘗試 reset ipynb 並將模型與權重重新建回並預測 x_test"
   ]
  },
  {
   "cell_type": "code",
   "execution_count": 1,
   "metadata": {},
   "outputs": [
    {
     "name": "stderr",
     "output_type": "stream",
     "text": [
      "Using TensorFlow backend.\n"
     ]
    }
   ],
   "source": [
    "import os\n",
    "import keras\n",
    "\n",
    "# Disable GPU\n",
    "os.environ[\"CUDA_VISIBLE_DEVICES\"] = \"\""
   ]
  },
  {
   "cell_type": "code",
   "execution_count": 2,
   "metadata": {},
   "outputs": [],
   "source": [
    "train, test = keras.datasets.cifar10.load_data()"
   ]
  },
  {
   "cell_type": "code",
   "execution_count": 3,
   "metadata": {},
   "outputs": [],
   "source": [
    "## 資料前處理\n",
    "def preproc_x(x, flatten=True):\n",
    "    x = x / 255.\n",
    "    if flatten:\n",
    "        x = x.reshape((len(x), -1))\n",
    "    return x\n",
    "\n",
    "def preproc_y(y, num_classes=10):\n",
    "    if y.shape[-1] == 1:\n",
    "        y = keras.utils.to_categorical(y, num_classes)\n",
    "    return y    "
   ]
  },
  {
   "cell_type": "code",
   "execution_count": 4,
   "metadata": {},
   "outputs": [],
   "source": [
    "x_train, y_train = train\n",
    "x_test, y_test = test\n",
    "\n",
    "# Preproc the inputs\n",
    "x_train = preproc_x(x_train)\n",
    "x_test = preproc_x(x_test)\n",
    "\n",
    "# Preprc the outputs\n",
    "y_train = preproc_y(y_train)\n",
    "y_test = preproc_y(y_test)"
   ]
  },
  {
   "cell_type": "code",
   "execution_count": 5,
   "metadata": {},
   "outputs": [],
   "source": [
    "from keras.layers import BatchNormalization\n",
    "\n",
    "def build_mlp(input_shape, output_units=10, num_neurons=[512, 256, 128]):\n",
    "    input_layer = keras.layers.Input(input_shape)\n",
    "    \n",
    "    for i, n_units in enumerate(num_neurons):\n",
    "        if i == 0:\n",
    "            x = keras.layers.Dense(units=n_units,\n",
    "                                   activation='relu',\n",
    "                                   name='hidden_layer'+str(i+1))(input_layer)\n",
    "            x = BatchNormalization()(x)\n",
    "        else:\n",
    "            x = keras.layers.Dense(units=n_units,\n",
    "                                   activation='relu',\n",
    "                                   name='hidden_layer'+str(i+1))(x)\n",
    "            x = BatchNormalization()(x)\n",
    "    out = keras.layers.Dense(units=output_units, activation='softmax', name='output')(x)\n",
    "    \n",
    "    model = keras.models.Model(input=[input_layer], output=[out])\n",
    "    return model"
   ]
  },
  {
   "cell_type": "code",
   "execution_count": 6,
   "metadata": {},
   "outputs": [],
   "source": [
    "LEARNING_RATE = 1e-3\n",
    "EPOCHS = 50\n",
    "BATCH_SIZE = 1024\n",
    "MOMENTUM = 0.95"
   ]
  },
  {
   "cell_type": "code",
   "execution_count": 7,
   "metadata": {},
   "outputs": [
    {
     "name": "stdout",
     "output_type": "stream",
     "text": [
      "WARNING:tensorflow:From /Users/YuwenChiu/anaconda3/lib/python3.7/site-packages/tensorflow/python/framework/op_def_library.py:263: colocate_with (from tensorflow.python.framework.ops) is deprecated and will be removed in a future version.\n",
      "Instructions for updating:\n",
      "Colocations handled automatically by placer.\n"
     ]
    },
    {
     "name": "stderr",
     "output_type": "stream",
     "text": [
      "/Users/YuwenChiu/anaconda3/lib/python3.7/site-packages/ipykernel_launcher.py:19: UserWarning: Update your `Model` call to the Keras 2 API: `Model(inputs=[<tf.Tenso..., outputs=[<tf.Tenso...)`\n"
     ]
    },
    {
     "name": "stdout",
     "output_type": "stream",
     "text": [
      "_________________________________________________________________\n",
      "Layer (type)                 Output Shape              Param #   \n",
      "=================================================================\n",
      "input_1 (InputLayer)         (None, 3072)              0         \n",
      "_________________________________________________________________\n",
      "hidden_layer1 (Dense)        (None, 512)               1573376   \n",
      "_________________________________________________________________\n",
      "batch_normalization_1 (Batch (None, 512)               2048      \n",
      "_________________________________________________________________\n",
      "hidden_layer2 (Dense)        (None, 256)               131328    \n",
      "_________________________________________________________________\n",
      "batch_normalization_2 (Batch (None, 256)               1024      \n",
      "_________________________________________________________________\n",
      "hidden_layer3 (Dense)        (None, 128)               32896     \n",
      "_________________________________________________________________\n",
      "batch_normalization_3 (Batch (None, 128)               512       \n",
      "_________________________________________________________________\n",
      "output (Dense)               (None, 10)                1290      \n",
      "=================================================================\n",
      "Total params: 1,742,474\n",
      "Trainable params: 1,740,682\n",
      "Non-trainable params: 1,792\n",
      "_________________________________________________________________\n",
      "WARNING:tensorflow:From /Users/YuwenChiu/anaconda3/lib/python3.7/site-packages/tensorflow/python/ops/math_ops.py:3066: to_int32 (from tensorflow.python.ops.math_ops) is deprecated and will be removed in a future version.\n",
      "Instructions for updating:\n",
      "Use tf.cast instead.\n",
      "Train on 50000 samples, validate on 10000 samples\n",
      "Epoch 1/50\n",
      "50000/50000 [==============================] - 277s 6ms/step - loss: 2.2134 - acc: 0.2656 - val_loss: 2.0733 - val_acc: 0.3136\n",
      "Epoch 2/50\n",
      "50000/50000 [==============================] - 296s 6ms/step - loss: 1.7505 - acc: 0.3864 - val_loss: 1.7924 - val_acc: 0.3845\n",
      "Epoch 3/50\n",
      "50000/50000 [==============================] - 253s 5ms/step - loss: 1.6232 - acc: 0.4315 - val_loss: 1.6795 - val_acc: 0.4088\n",
      "Epoch 4/50\n",
      "50000/50000 [==============================] - 238s 5ms/step - loss: 1.5502 - acc: 0.4585 - val_loss: 1.6179 - val_acc: 0.4317\n",
      "Epoch 5/50\n",
      "50000/50000 [==============================] - 243s 5ms/step - loss: 1.4945 - acc: 0.4788 - val_loss: 1.5945 - val_acc: 0.4462\n",
      "Epoch 6/50\n",
      "50000/50000 [==============================] - 269s 5ms/step - loss: 1.4465 - acc: 0.4946 - val_loss: 1.5783 - val_acc: 0.4479\n",
      "Epoch 7/50\n",
      "50000/50000 [==============================] - 256s 5ms/step - loss: 1.4072 - acc: 0.5089 - val_loss: 1.5513 - val_acc: 0.4548\n",
      "Epoch 8/50\n",
      "50000/50000 [==============================] - 310s 6ms/step - loss: 1.3704 - acc: 0.5225 - val_loss: 1.5293 - val_acc: 0.4659\n",
      "Epoch 9/50\n",
      "50000/50000 [==============================] - 398s 8ms/step - loss: 1.3367 - acc: 0.5348 - val_loss: 1.5123 - val_acc: 0.4646\n",
      "Epoch 10/50\n",
      "50000/50000 [==============================] - 249s 5ms/step - loss: 1.3062 - acc: 0.5461 - val_loss: 1.5087 - val_acc: 0.4673\n",
      "Epoch 11/50\n",
      "50000/50000 [==============================] - 224s 4ms/step - loss: 1.2777 - acc: 0.5567 - val_loss: 1.4929 - val_acc: 0.4701\n",
      "Epoch 12/50\n",
      "50000/50000 [==============================] - 223s 4ms/step - loss: 1.2504 - acc: 0.5661 - val_loss: 1.4907 - val_acc: 0.4757\n",
      "Epoch 13/50\n",
      "50000/50000 [==============================] - 227s 5ms/step - loss: 1.2224 - acc: 0.5785 - val_loss: 1.4869 - val_acc: 0.4799\n",
      "Epoch 14/50\n",
      "50000/50000 [==============================] - 229s 5ms/step - loss: 1.2012 - acc: 0.5845 - val_loss: 1.4604 - val_acc: 0.4897\n",
      "Epoch 15/50\n",
      "50000/50000 [==============================] - 241s 5ms/step - loss: 1.1736 - acc: 0.5938 - val_loss: 1.4726 - val_acc: 0.4818\n",
      "Epoch 16/50\n",
      "50000/50000 [==============================] - 240s 5ms/step - loss: 1.1530 - acc: 0.6029 - val_loss: 1.4642 - val_acc: 0.4891\n",
      "Epoch 17/50\n",
      "50000/50000 [==============================] - 240s 5ms/step - loss: 1.1265 - acc: 0.6134 - val_loss: 1.4567 - val_acc: 0.4881\n",
      "Epoch 18/50\n",
      "50000/50000 [==============================] - 240s 5ms/step - loss: 1.1060 - acc: 0.6206 - val_loss: 1.4571 - val_acc: 0.4914\n",
      "Epoch 19/50\n",
      "50000/50000 [==============================] - 11733s 235ms/step - loss: 1.0831 - acc: 0.6287 - val_loss: 1.4495 - val_acc: 0.4911\n",
      "Epoch 20/50\n",
      "50000/50000 [==============================] - 285s 6ms/step - loss: 1.0617 - acc: 0.6368 - val_loss: 1.4492 - val_acc: 0.4945\n",
      "Epoch 21/50\n",
      "50000/50000 [==============================] - 272s 5ms/step - loss: 1.0408 - acc: 0.6458 - val_loss: 1.4594 - val_acc: 0.4926\n",
      "Epoch 22/50\n",
      "50000/50000 [==============================] - 280s 6ms/step - loss: 1.0203 - acc: 0.6525 - val_loss: 1.4398 - val_acc: 0.5014\n",
      "Epoch 23/50\n",
      "50000/50000 [==============================] - 248s 5ms/step - loss: 0.9983 - acc: 0.6612 - val_loss: 1.4462 - val_acc: 0.4978\n",
      "Epoch 24/50\n",
      "50000/50000 [==============================] - 233s 5ms/step - loss: 0.9786 - acc: 0.6693 - val_loss: 1.4467 - val_acc: 0.4949\n",
      "Epoch 25/50\n",
      "50000/50000 [==============================] - 233s 5ms/step - loss: 0.9563 - acc: 0.6770 - val_loss: 1.4529 - val_acc: 0.5005\n",
      "Epoch 26/50\n",
      "50000/50000 [==============================] - 237s 5ms/step - loss: 0.9393 - acc: 0.6834 - val_loss: 1.4675 - val_acc: 0.4937\n",
      "Epoch 27/50\n",
      "50000/50000 [==============================] - 229s 5ms/step - loss: 0.9164 - acc: 0.6920 - val_loss: 1.4507 - val_acc: 0.5012\n",
      "Epoch 28/50\n",
      "50000/50000 [==============================] - 252s 5ms/step - loss: 0.8958 - acc: 0.7019 - val_loss: 1.4666 - val_acc: 0.4998\n",
      "Epoch 29/50\n",
      "50000/50000 [==============================] - 253s 5ms/step - loss: 0.8752 - acc: 0.7099 - val_loss: 1.4718 - val_acc: 0.4980\n",
      "Epoch 30/50\n",
      "50000/50000 [==============================] - 254s 5ms/step - loss: 0.8545 - acc: 0.7191 - val_loss: 1.4715 - val_acc: 0.5071\n",
      "Epoch 31/50\n",
      "50000/50000 [==============================] - 265s 5ms/step - loss: 0.8351 - acc: 0.7254 - val_loss: 1.4783 - val_acc: 0.5012\n",
      "Epoch 32/50\n",
      "50000/50000 [==============================] - 252s 5ms/step - loss: 0.8144 - acc: 0.7343 - val_loss: 1.4747 - val_acc: 0.5025\n",
      "Epoch 33/50\n",
      "50000/50000 [==============================] - 256s 5ms/step - loss: 0.7957 - acc: 0.7415 - val_loss: 1.5007 - val_acc: 0.4995\n",
      "Epoch 34/50\n",
      "50000/50000 [==============================] - 265s 5ms/step - loss: 0.7785 - acc: 0.7494 - val_loss: 1.4974 - val_acc: 0.5041\n",
      "Epoch 35/50\n",
      "50000/50000 [==============================] - 253s 5ms/step - loss: 0.7573 - acc: 0.7573 - val_loss: 1.5072 - val_acc: 0.4998\n",
      "Epoch 36/50\n",
      "50000/50000 [==============================] - 236s 5ms/step - loss: 0.7403 - acc: 0.7642 - val_loss: 1.5185 - val_acc: 0.5013\n",
      "Epoch 37/50\n",
      "50000/50000 [==============================] - 228s 5ms/step - loss: 0.7190 - acc: 0.7718 - val_loss: 1.5256 - val_acc: 0.4943\n",
      "Epoch 38/50\n",
      "50000/50000 [==============================] - 243s 5ms/step - loss: 0.6999 - acc: 0.7797 - val_loss: 1.5371 - val_acc: 0.5004\n",
      "Epoch 39/50\n",
      "50000/50000 [==============================] - 249s 5ms/step - loss: 0.6827 - acc: 0.7866 - val_loss: 1.5329 - val_acc: 0.4969\n",
      "Epoch 40/50\n",
      "50000/50000 [==============================] - 237s 5ms/step - loss: 0.6662 - acc: 0.7923 - val_loss: 1.5545 - val_acc: 0.4951\n",
      "Epoch 41/50\n",
      "50000/50000 [==============================] - 260s 5ms/step - loss: 0.6474 - acc: 0.7999 - val_loss: 1.5644 - val_acc: 0.4921\n",
      "Epoch 42/50\n",
      "50000/50000 [==============================] - 267s 5ms/step - loss: 0.6283 - acc: 0.8091 - val_loss: 1.5762 - val_acc: 0.4979\n",
      "Epoch 43/50\n",
      "50000/50000 [==============================] - 248s 5ms/step - loss: 0.6104 - acc: 0.8154 - val_loss: 1.5851 - val_acc: 0.4948\n",
      "Epoch 44/50\n",
      "50000/50000 [==============================] - 239s 5ms/step - loss: 0.5940 - acc: 0.8227 - val_loss: 1.5788 - val_acc: 0.4977\n",
      "Epoch 45/50\n",
      "50000/50000 [==============================] - 248s 5ms/step - loss: 0.5762 - acc: 0.8281 - val_loss: 1.6258 - val_acc: 0.4904\n",
      "Epoch 46/50\n",
      "50000/50000 [==============================] - 231s 5ms/step - loss: 0.5597 - acc: 0.8346 - val_loss: 1.6481 - val_acc: 0.4943\n",
      "Epoch 47/50\n"
     ]
    },
    {
     "name": "stdout",
     "output_type": "stream",
     "text": [
      "50000/50000 [==============================] - 253s 5ms/step - loss: 0.5412 - acc: 0.8434 - val_loss: 1.6300 - val_acc: 0.4896\n",
      "Epoch 48/50\n",
      "50000/50000 [==============================] - 241s 5ms/step - loss: 0.5249 - acc: 0.8498 - val_loss: 1.6509 - val_acc: 0.4895\n",
      "Epoch 49/50\n",
      "50000/50000 [==============================] - 234s 5ms/step - loss: 0.5091 - acc: 0.8556 - val_loss: 1.6662 - val_acc: 0.4876\n",
      "Epoch 50/50\n",
      "50000/50000 [==============================] - 257s 5ms/step - loss: 0.4910 - acc: 0.8629 - val_loss: 1.6708 - val_acc: 0.4927\n",
      "10000/10000 [==============================] - 28s 3ms/step\n"
     ]
    }
   ],
   "source": [
    "# 載入 Callbacks\n",
    "from keras.callbacks import ModelCheckpoint\n",
    "model_ckpt = ModelCheckpoint(filepath='./tmp.h5',\n",
    "                             monitor='val_loss',\n",
    "                             save_best_only=False)\n",
    "\n",
    "results = {}\n",
    "model = build_mlp(input_shape=x_train.shape[1:])\n",
    "model.summary()\n",
    "optimizer = keras.optimizers.SGD(lr=LEARNING_RATE, nesterov=True, momentum=MOMENTUM)\n",
    "model.compile(loss='categorical_crossentropy', metrics=['accuracy'], optimizer=optimizer)\n",
    "model.fit(x_train, y_train,\n",
    "          epochs=EPOCHS,\n",
    "          batch_size=BATCH_SIZE,\n",
    "          validation_data=(x_test, y_test),\n",
    "          shuffle=True,\n",
    "          callbacks=[model_ckpt]\n",
    "         )\n",
    "# Collect results\n",
    "train_loss = model.history.history['loss']\n",
    "valid_loss = model.history.history['val_loss']\n",
    "train_acc = model.history.history['acc']\n",
    "valid_acc = model.history.history['val_acc']\n",
    "# Load back\n",
    "model = keras.models.load_model(\"./tmp.h5\")\n",
    "loss_loadback, acc_loadback = model.evaluate(x_test, y_test)"
   ]
  },
  {
   "cell_type": "code",
   "execution_count": 8,
   "metadata": {
    "scrolled": true
   },
   "outputs": [
    {
     "data": {
      "image/png": "[encoded data removed]",
      "text/plain": [
       "<Figure size 432x288 with 1 Axes>"
      ]
     },
     "metadata": {
      "needs_background": "light"
     },
     "output_type": "display_data"
    },
    {
     "data": {
      "image/png": "[encoded data removed]",
      "text/plain": [
       "<Figure size 432x288 with 1 Axes>"
      ]
     },
     "metadata": {
      "needs_background": "light"
     },
     "output_type": "display_data"
    }
   ],
   "source": [
    "import matplotlib.pyplot as plt\n",
    "%matplotlib inline\n",
    "plt.plot(range(len(train_loss)), train_loss, label='train loss')\n",
    "plt.plot(range(len(valid_loss)), valid_loss, label='valid loss')\n",
    "plt.hlines(y=loss_loadback, xmin=0, xmax=len(train_loss), colors='r', linestyles='--')\n",
    "plt.legend()\n",
    "plt.title('Loss')\n",
    "plt.show()\n",
    "\n",
    "plt.plot(range(len(train_acc)), train_acc, label='train accuracy')\n",
    "plt.plot(range(len(valid_acc)), valid_acc, label='valid accuracy')\n",
    "plt.hlines(y=acc_loadback, xmin=0, xmax=len(train_loss), colors='r', linestyles='--')\n",
    "plt.legend()\n",
    "plt.title('Accuracy')\n",
    "plt.show()"
   ]
  },
  {
   "cell_type": "code",
   "execution_count": 9,
   "metadata": {},
   "outputs": [
    {
     "name": "stderr",
     "output_type": "stream",
     "text": [
      "/Users/YuwenChiu/anaconda3/lib/python3.7/site-packages/ipykernel_launcher.py:19: UserWarning: Update your `Model` call to the Keras 2 API: `Model(inputs=[<tf.Tenso..., outputs=[<tf.Tenso...)`\n"
     ]
    },
    {
     "name": "stdout",
     "output_type": "stream",
     "text": [
      "_________________________________________________________________\n",
      "Layer (type)                 Output Shape              Param #   \n",
      "=================================================================\n",
      "input_2 (InputLayer)         (None, 3072)              0         \n",
      "_________________________________________________________________\n",
      "hidden_layer1 (Dense)        (None, 512)               1573376   \n",
      "_________________________________________________________________\n",
      "batch_normalization_4 (Batch (None, 512)               2048      \n",
      "_________________________________________________________________\n",
      "hidden_layer2 (Dense)        (None, 256)               131328    \n",
      "_________________________________________________________________\n",
      "batch_normalization_5 (Batch (None, 256)               1024      \n",
      "_________________________________________________________________\n",
      "hidden_layer3 (Dense)        (None, 128)               32896     \n",
      "_________________________________________________________________\n",
      "batch_normalization_6 (Batch (None, 128)               512       \n",
      "_________________________________________________________________\n",
      "output (Dense)               (None, 10)                1290      \n",
      "=================================================================\n",
      "Total params: 1,742,474\n",
      "Trainable params: 1,740,682\n",
      "Non-trainable params: 1,792\n",
      "_________________________________________________________________\n",
      "Train on 50000 samples, validate on 10000 samples\n",
      "Epoch 1/50\n",
      "50000/50000 [==============================] - 671s 13ms/step - loss: 2.2257 - acc: 0.2704 - val_loss: 2.1487 - val_acc: 0.3081\n",
      "Epoch 2/50\n",
      "50000/50000 [==============================] - 225s 5ms/step - loss: 1.7555 - acc: 0.3941 - val_loss: 1.8504 - val_acc: 0.3710\n",
      "Epoch 3/50\n",
      "50000/50000 [==============================] - 224s 4ms/step - loss: 1.6282 - acc: 0.4352 - val_loss: 1.7248 - val_acc: 0.4020\n",
      "Epoch 4/50\n",
      "50000/50000 [==============================] - 228s 5ms/step - loss: 1.5550 - acc: 0.4587 - val_loss: 1.6969 - val_acc: 0.4129\n",
      "Epoch 5/50\n",
      "50000/50000 [==============================] - 223s 4ms/step - loss: 1.4993 - acc: 0.4771 - val_loss: 1.6044 - val_acc: 0.4350\n",
      "Epoch 6/50\n",
      "50000/50000 [==============================] - 253s 5ms/step - loss: 1.4537 - acc: 0.4945 - val_loss: 1.5719 - val_acc: 0.4478\n",
      "Epoch 7/50\n",
      "50000/50000 [==============================] - 247s 5ms/step - loss: 1.4115 - acc: 0.5086 - val_loss: 1.5706 - val_acc: 0.4492\n",
      "Epoch 8/50\n",
      "50000/50000 [==============================] - 240s 5ms/step - loss: 1.3789 - acc: 0.5219 - val_loss: 1.5471 - val_acc: 0.4547\n",
      "Epoch 9/50\n",
      "50000/50000 [==============================] - 240s 5ms/step - loss: 1.3452 - acc: 0.5335 - val_loss: 1.5213 - val_acc: 0.4677\n",
      "Epoch 10/50\n",
      "50000/50000 [==============================] - 242s 5ms/step - loss: 1.3143 - acc: 0.5442 - val_loss: 1.5182 - val_acc: 0.4604\n",
      "Epoch 11/50\n",
      "50000/50000 [==============================] - 244s 5ms/step - loss: 1.2847 - acc: 0.5567 - val_loss: 1.4975 - val_acc: 0.4668\n",
      "Epoch 12/50\n",
      "50000/50000 [==============================] - 257s 5ms/step - loss: 1.2581 - acc: 0.5659 - val_loss: 1.4992 - val_acc: 0.4729\n",
      "Epoch 13/50\n",
      "50000/50000 [==============================] - 257s 5ms/step - loss: 1.2332 - acc: 0.5740 - val_loss: 1.4936 - val_acc: 0.4709\n",
      "Epoch 14/50\n",
      "50000/50000 [==============================] - 251s 5ms/step - loss: 1.2066 - acc: 0.5857 - val_loss: 1.4802 - val_acc: 0.4774\n",
      "Epoch 15/50\n",
      "50000/50000 [==============================] - 253s 5ms/step - loss: 1.1813 - acc: 0.5933 - val_loss: 1.4705 - val_acc: 0.4795\n",
      "Epoch 16/50\n",
      "50000/50000 [==============================] - 251s 5ms/step - loss: 1.1559 - acc: 0.6057 - val_loss: 1.4869 - val_acc: 0.4768\n",
      "Epoch 17/50\n",
      "50000/50000 [==============================] - 254s 5ms/step - loss: 1.1340 - acc: 0.6115 - val_loss: 1.4771 - val_acc: 0.4746\n",
      "Epoch 18/50\n",
      "50000/50000 [==============================] - 264s 5ms/step - loss: 1.1102 - acc: 0.6210 - val_loss: 1.4729 - val_acc: 0.4774\n",
      "Epoch 19/50\n",
      "50000/50000 [==============================] - 250s 5ms/step - loss: 1.0891 - acc: 0.6298 - val_loss: 1.4701 - val_acc: 0.4882\n",
      "Epoch 20/50\n",
      "50000/50000 [==============================] - 249s 5ms/step - loss: 1.0667 - acc: 0.6384 - val_loss: 1.4662 - val_acc: 0.4822\n",
      "Epoch 21/50\n",
      "50000/50000 [==============================] - 251s 5ms/step - loss: 1.0430 - acc: 0.6473 - val_loss: 1.4795 - val_acc: 0.4790\n",
      "Epoch 22/50\n",
      "50000/50000 [==============================] - 243s 5ms/step - loss: 1.0228 - acc: 0.6554 - val_loss: 1.4665 - val_acc: 0.4867\n",
      "Epoch 23/50\n",
      "50000/50000 [==============================] - 258s 5ms/step - loss: 0.9997 - acc: 0.6628 - val_loss: 1.4652 - val_acc: 0.4895\n",
      "Epoch 24/50\n",
      "50000/50000 [==============================] - 253s 5ms/step - loss: 0.9794 - acc: 0.6722 - val_loss: 1.4841 - val_acc: 0.4854\n",
      "Epoch 25/50\n",
      "50000/50000 [==============================] - 229s 5ms/step - loss: 0.9574 - acc: 0.6801 - val_loss: 1.4645 - val_acc: 0.4895\n",
      "Epoch 26/50\n",
      "50000/50000 [==============================] - 224s 4ms/step - loss: 0.9366 - acc: 0.6883 - val_loss: 1.4757 - val_acc: 0.4935\n",
      "Epoch 27/50\n",
      "50000/50000 [==============================] - 225s 4ms/step - loss: 0.9156 - acc: 0.6944 - val_loss: 1.4746 - val_acc: 0.4914\n",
      "Epoch 28/50\n",
      "50000/50000 [==============================] - 229s 5ms/step - loss: 0.8965 - acc: 0.7054 - val_loss: 1.4813 - val_acc: 0.4944\n",
      "Epoch 29/50\n",
      "50000/50000 [==============================] - 224s 4ms/step - loss: 0.8769 - acc: 0.7136 - val_loss: 1.4813 - val_acc: 0.4930\n",
      "Epoch 30/50\n",
      "50000/50000 [==============================] - 241s 5ms/step - loss: 0.8564 - acc: 0.7199 - val_loss: 1.5017 - val_acc: 0.4925\n",
      "Epoch 31/50\n",
      "50000/50000 [==============================] - 220s 4ms/step - loss: 0.8343 - acc: 0.7266 - val_loss: 1.5021 - val_acc: 0.4975\n",
      "Epoch 32/50\n",
      "50000/50000 [==============================] - 236s 5ms/step - loss: 0.8143 - acc: 0.7357 - val_loss: 1.5243 - val_acc: 0.4850\n",
      "Epoch 33/50\n",
      "50000/50000 [==============================] - 253s 5ms/step - loss: 0.7955 - acc: 0.7421 - val_loss: 1.5051 - val_acc: 0.4954\n",
      "Epoch 34/50\n",
      "50000/50000 [==============================] - 231s 5ms/step - loss: 0.7768 - acc: 0.7497 - val_loss: 1.5126 - val_acc: 0.4941\n",
      "Epoch 35/50\n",
      "50000/50000 [==============================] - 227s 5ms/step - loss: 0.7567 - acc: 0.7590 - val_loss: 1.5356 - val_acc: 0.4901\n",
      "Epoch 36/50\n",
      "50000/50000 [==============================] - 225s 5ms/step - loss: 0.7366 - acc: 0.7660 - val_loss: 1.5344 - val_acc: 0.4884\n",
      "Epoch 37/50\n",
      "50000/50000 [==============================] - 223s 4ms/step - loss: 0.7163 - acc: 0.7735 - val_loss: 1.5483 - val_acc: 0.4945\n",
      "Epoch 38/50\n",
      "50000/50000 [==============================] - 223s 4ms/step - loss: 0.6996 - acc: 0.7811 - val_loss: 1.5706 - val_acc: 0.4855\n",
      "Epoch 39/50\n",
      "50000/50000 [==============================] - 223s 4ms/step - loss: 0.6786 - acc: 0.7900 - val_loss: 1.5713 - val_acc: 0.4903\n",
      "Epoch 40/50\n",
      "50000/50000 [==============================] - 224s 4ms/step - loss: 0.6603 - acc: 0.7967 - val_loss: 1.5591 - val_acc: 0.4943\n",
      "Epoch 41/50\n",
      "50000/50000 [==============================] - 223s 4ms/step - loss: 0.6410 - acc: 0.8035 - val_loss: 1.5827 - val_acc: 0.4939\n",
      "Epoch 42/50\n",
      "50000/50000 [==============================] - 223s 4ms/step - loss: 0.6224 - acc: 0.8114 - val_loss: 1.5938 - val_acc: 0.4918\n",
      "Epoch 43/50\n",
      "50000/50000 [==============================] - 225s 5ms/step - loss: 0.6067 - acc: 0.8168 - val_loss: 1.5964 - val_acc: 0.4926\n",
      "Epoch 44/50\n",
      "50000/50000 [==============================] - 224s 4ms/step - loss: 0.5868 - acc: 0.8261 - val_loss: 1.6198 - val_acc: 0.4869\n",
      "Epoch 45/50\n",
      "50000/50000 [==============================] - 224s 4ms/step - loss: 0.5707 - acc: 0.8317 - val_loss: 1.6241 - val_acc: 0.4873\n",
      "Epoch 46/50\n",
      "50000/50000 [==============================] - 222s 4ms/step - loss: 0.5518 - acc: 0.8385 - val_loss: 1.6234 - val_acc: 0.4884\n",
      "Epoch 47/50\n",
      "50000/50000 [==============================] - 226s 5ms/step - loss: 0.5360 - acc: 0.8456 - val_loss: 1.6387 - val_acc: 0.4913\n",
      "Epoch 48/50\n",
      "50000/50000 [==============================] - 223s 4ms/step - loss: 0.5182 - acc: 0.8530 - val_loss: 1.6694 - val_acc: 0.4883\n",
      "Epoch 49/50\n"
     ]
    },
    {
     "name": "stdout",
     "output_type": "stream",
     "text": [
      "50000/50000 [==============================] - 224s 4ms/step - loss: 0.5030 - acc: 0.8590 - val_loss: 1.6842 - val_acc: 0.4797\n",
      "Epoch 50/50\n",
      "50000/50000 [==============================] - 223s 4ms/step - loss: 0.4843 - acc: 0.8662 - val_loss: 1.7159 - val_acc: 0.4891\n",
      "10000/10000 [==============================] - 23s 2ms/step\n"
     ]
    }
   ],
   "source": [
    "model_ckpt = ModelCheckpoint(filepath='weights_best_false.hdf5',\n",
    "                             monitor='val_loss',\n",
    "                             save_best_only=True)\n",
    "\n",
    "results = {}\n",
    "model = build_mlp(input_shape=x_train.shape[1:])\n",
    "model.summary()\n",
    "optimizer = keras.optimizers.SGD(lr=LEARNING_RATE, nesterov=True, momentum=MOMENTUM)\n",
    "model.compile(loss='categorical_crossentropy', metrics=['accuracy'], optimizer=optimizer)\n",
    "model.fit(x_train, y_train,\n",
    "          epochs=EPOCHS,\n",
    "          batch_size=BATCH_SIZE,\n",
    "          validation_data=(x_test, y_test),\n",
    "          shuffle=True,\n",
    "          callbacks=[model_ckpt]\n",
    "         )\n",
    "# Collect results\n",
    "train_loss = model.history.history['loss']\n",
    "valid_loss = model.history.history['val_loss']\n",
    "train_acc = model.history.history['acc']\n",
    "valid_acc = model.history.history['val_acc']\n",
    "# Load back\n",
    "model = keras.models.load_model(\"./tmp.h5\")\n",
    "loss_loadback, acc_loadback = model.evaluate(x_test, y_test)"
   ]
  },
  {
   "cell_type": "code",
   "execution_count": 10,
   "metadata": {},
   "outputs": [
    {
     "data": {
      "image/png": "[encoded data removed]",
      "text/plain": [
       "<Figure size 432x288 with 1 Axes>"
      ]
     },
     "metadata": {
      "needs_background": "light"
     },
     "output_type": "display_data"
    },
    {
     "data": {
      "image/png": "[encoded data removed]",
      "text/plain": [
       "<Figure size 432x288 with 1 Axes>"
      ]
     },
     "metadata": {
      "needs_background": "light"
     },
     "output_type": "display_data"
    }
   ],
   "source": [
    "plt.plot(range(len(train_loss)), train_loss, label=\"train loss\")\n",
    "plt.plot(range(len(valid_loss)), valid_loss, label=\"valid loss\")\n",
    "plt.hlines(y=loss_loadback, xmin=0, xmax=len(train_loss), colors='r', linestyles='--')\n",
    "plt.legend()\n",
    "plt.title(\"Loss\")\n",
    "plt.show()\n",
    "\n",
    "plt.plot(range(len(train_acc)), train_acc, label=\"train accuracy\")\n",
    "plt.plot(range(len(valid_acc)), valid_acc, label=\"valid accuracy\")\n",
    "plt.hlines(y=acc_loadback, xmin=0, xmax=len(train_loss), colors='r', linestyles='--')\n",
    "plt.legend()\n",
    "plt.title(\"Accuracy\")\n",
    "plt.show()"
   ]
  },
  {
   "cell_type": "code",
   "execution_count": null,
   "metadata": {},
   "outputs": [],
   "source": []
  }
 ],
 "metadata": {
  "kernelspec": {
   "display_name": "Python 3",
   "language": "python",
   "name": "python3"
  },
  "language_info": {
   "codemirror_mode": {
    "name": "ipython",
    "version": 3
   },
   "file_extension": ".py",
   "mimetype": "text/x-python",
   "name": "python",
   "nbconvert_exporter": "python",
   "pygments_lexer": "ipython3",
   "version": "3.7.1"
  }
 },
 "nbformat": 4,
 "nbformat_minor": 2
}
